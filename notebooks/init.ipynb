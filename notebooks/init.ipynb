{
 "cells": [
  {
   "cell_type": "code",
   "execution_count": 4,
   "metadata": {},
   "outputs": [],
   "source": [
    "import pandas as pd\n",
    "import numpy as np\n",
    "import pyarrow.parquet as pq\n",
    "import plotly.express as px"
   ]
  },
  {
   "cell_type": "code",
   "execution_count": 40,
   "metadata": {},
   "outputs": [],
   "source": [
    "file_path = \"/media/saradindu/Default/Data/AWS_CUR_Data/month=1/cur-reports-00046.snappy.parquet\"\n",
    "df = pq.read_table(file_path).to_pandas()"
   ]
  },
  {
   "cell_type": "code",
   "execution_count": 41,
   "metadata": {},
   "outputs": [
    {
     "data": {
      "text/plain": [
       "(1000000, 281)"
      ]
     },
     "execution_count": 41,
     "metadata": {},
     "output_type": "execute_result"
    }
   ],
   "source": [
    "df.shape"
   ]
  },
  {
   "cell_type": "code",
   "execution_count": 42,
   "metadata": {},
   "outputs": [
    {
     "data": {
      "application/vnd.plotly.v1+json": {
       "config": {
        "plotlyServerURL": "https://plot.ly"
       },
       "data": [
        {
         "alignmentgroup": "True",
         "hovertemplate": "line_item_product_code=%{x}<br>line_item_unblended_cost=%{y}<extra></extra>",
         "legendgroup": "",
         "marker": {
          "color": "#636efa",
          "pattern": {
           "shape": ""
          }
         },
         "name": "",
         "offsetgroup": "",
         "orientation": "v",
         "showlegend": false,
         "textposition": "auto",
         "type": "bar",
         "x": [
          "AWSAppRunner",
          "AWSBackup",
          "AWSCloudMap",
          "AWSCloudTrail",
          "AWSCodeArtifact",
          "AWSCodePipeline",
          "AWSConfig",
          "AWSCostExplorer",
          "AWSDataSync",
          "AWSDirectoryService",
          "AWSELB",
          "AWSEvents",
          "AWSGlue",
          "AWSLambda",
          "AWSQueueService",
          "AWSSecretsManager",
          "AWSSystemsManager",
          "AWSXRay",
          "AmazonApiGateway",
          "AmazonAthena",
          "AmazonCloudFront",
          "AmazonCloudWatch",
          "AmazonDocDB",
          "AmazonDynamoDB",
          "AmazonEC2",
          "AmazonECR",
          "AmazonECS",
          "AmazonEFS",
          "AmazonEKS",
          "AmazonES",
          "AmazonElastiCache",
          "AmazonGuardDuty",
          "AmazonInspector",
          "AmazonInspectorV2",
          "AmazonKinesis",
          "AmazonKinesisFirehose",
          "AmazonLex",
          "AmazonMSK",
          "AmazonMWAA",
          "AmazonMemoryDB",
          "AmazonPinpoint",
          "AmazonQuickSight",
          "AmazonRDS",
          "AmazonRedshift",
          "AmazonRoute53",
          "AmazonS3",
          "AmazonSES",
          "AmazonSNS",
          "AmazonStates",
          "AmazonTimestream",
          "AmazonVPC",
          "AmazonWorkSpaces",
          "CodeBuild",
          "ComputeSavingsPlans",
          "ElasticMapReduce",
          "awskms",
          "datapipeline"
         ],
         "xaxis": "x",
         "y": [
          -5.3673533953,
          -0.0703160656,
          -0.0049354944000000005,
          -0.98204157,
          -2.8148444195,
          -4.59,
          -0.0405,
          -4.8922910761,
          -0.0183459643,
          -5.0627393883,
          -817.4914561172,
          -0.0212265306,
          -0.2273531544,
          -95.9661971132,
          -623.9832114099,
          -11.6016718702,
          -0.759177009,
          -0.104197725,
          -135.2710389443,
          -0.49419315,
          -20.5064870076,
          -660.8902129455,
          -56.7467669714,
          -300.5786179337,
          -7576.9325095184,
          -6.6410623228,
          -361.907680158,
          -0.4317147226,
          -267.6978798666,
          -1.5106644117,
          -1070.8349902112,
          -297.3412192441,
          -0.06075,
          -0.1831626,
          -146.9348530649,
          -3.1326035664,
          -5.38558875,
          -310.0724401081,
          -179.98624875369998,
          -16.80696,
          -0.0522580608,
          -18.8573982393,
          -8185.6007126063005,
          -440.92307990750004,
          -34.198230969,
          -1563.7412160749,
          -0.0012460754,
          -0.7853970527,
          -2.327e-7,
          -0.00045896340000000003,
          -164.6153846414,
          -0.13365,
          -0.39285,
          -3511.0125000000003,
          -78.1055637498,
          -14.6007974872,
          -0.052620964
         ],
         "yaxis": "y"
        }
       ],
       "layout": {
        "barmode": "relative",
        "legend": {
         "tracegroupgap": 0
        },
        "template": {
         "data": {
          "bar": [
           {
            "error_x": {
             "color": "#2a3f5f"
            },
            "error_y": {
             "color": "#2a3f5f"
            },
            "marker": {
             "line": {
              "color": "#E5ECF6",
              "width": 0.5
             },
             "pattern": {
              "fillmode": "overlay",
              "size": 10,
              "solidity": 0.2
             }
            },
            "type": "bar"
           }
          ],
          "barpolar": [
           {
            "marker": {
             "line": {
              "color": "#E5ECF6",
              "width": 0.5
             },
             "pattern": {
              "fillmode": "overlay",
              "size": 10,
              "solidity": 0.2
             }
            },
            "type": "barpolar"
           }
          ],
          "carpet": [
           {
            "aaxis": {
             "endlinecolor": "#2a3f5f",
             "gridcolor": "white",
             "linecolor": "white",
             "minorgridcolor": "white",
             "startlinecolor": "#2a3f5f"
            },
            "baxis": {
             "endlinecolor": "#2a3f5f",
             "gridcolor": "white",
             "linecolor": "white",
             "minorgridcolor": "white",
             "startlinecolor": "#2a3f5f"
            },
            "type": "carpet"
           }
          ],
          "choropleth": [
           {
            "colorbar": {
             "outlinewidth": 0,
             "ticks": ""
            },
            "type": "choropleth"
           }
          ],
          "contour": [
           {
            "colorbar": {
             "outlinewidth": 0,
             "ticks": ""
            },
            "colorscale": [
             [
              0,
              "#0d0887"
             ],
             [
              0.1111111111111111,
              "#46039f"
             ],
             [
              0.2222222222222222,
              "#7201a8"
             ],
             [
              0.3333333333333333,
              "#9c179e"
             ],
             [
              0.4444444444444444,
              "#bd3786"
             ],
             [
              0.5555555555555556,
              "#d8576b"
             ],
             [
              0.6666666666666666,
              "#ed7953"
             ],
             [
              0.7777777777777778,
              "#fb9f3a"
             ],
             [
              0.8888888888888888,
              "#fdca26"
             ],
             [
              1,
              "#f0f921"
             ]
            ],
            "type": "contour"
           }
          ],
          "contourcarpet": [
           {
            "colorbar": {
             "outlinewidth": 0,
             "ticks": ""
            },
            "type": "contourcarpet"
           }
          ],
          "heatmap": [
           {
            "colorbar": {
             "outlinewidth": 0,
             "ticks": ""
            },
            "colorscale": [
             [
              0,
              "#0d0887"
             ],
             [
              0.1111111111111111,
              "#46039f"
             ],
             [
              0.2222222222222222,
              "#7201a8"
             ],
             [
              0.3333333333333333,
              "#9c179e"
             ],
             [
              0.4444444444444444,
              "#bd3786"
             ],
             [
              0.5555555555555556,
              "#d8576b"
             ],
             [
              0.6666666666666666,
              "#ed7953"
             ],
             [
              0.7777777777777778,
              "#fb9f3a"
             ],
             [
              0.8888888888888888,
              "#fdca26"
             ],
             [
              1,
              "#f0f921"
             ]
            ],
            "type": "heatmap"
           }
          ],
          "heatmapgl": [
           {
            "colorbar": {
             "outlinewidth": 0,
             "ticks": ""
            },
            "colorscale": [
             [
              0,
              "#0d0887"
             ],
             [
              0.1111111111111111,
              "#46039f"
             ],
             [
              0.2222222222222222,
              "#7201a8"
             ],
             [
              0.3333333333333333,
              "#9c179e"
             ],
             [
              0.4444444444444444,
              "#bd3786"
             ],
             [
              0.5555555555555556,
              "#d8576b"
             ],
             [
              0.6666666666666666,
              "#ed7953"
             ],
             [
              0.7777777777777778,
              "#fb9f3a"
             ],
             [
              0.8888888888888888,
              "#fdca26"
             ],
             [
              1,
              "#f0f921"
             ]
            ],
            "type": "heatmapgl"
           }
          ],
          "histogram": [
           {
            "marker": {
             "pattern": {
              "fillmode": "overlay",
              "size": 10,
              "solidity": 0.2
             }
            },
            "type": "histogram"
           }
          ],
          "histogram2d": [
           {
            "colorbar": {
             "outlinewidth": 0,
             "ticks": ""
            },
            "colorscale": [
             [
              0,
              "#0d0887"
             ],
             [
              0.1111111111111111,
              "#46039f"
             ],
             [
              0.2222222222222222,
              "#7201a8"
             ],
             [
              0.3333333333333333,
              "#9c179e"
             ],
             [
              0.4444444444444444,
              "#bd3786"
             ],
             [
              0.5555555555555556,
              "#d8576b"
             ],
             [
              0.6666666666666666,
              "#ed7953"
             ],
             [
              0.7777777777777778,
              "#fb9f3a"
             ],
             [
              0.8888888888888888,
              "#fdca26"
             ],
             [
              1,
              "#f0f921"
             ]
            ],
            "type": "histogram2d"
           }
          ],
          "histogram2dcontour": [
           {
            "colorbar": {
             "outlinewidth": 0,
             "ticks": ""
            },
            "colorscale": [
             [
              0,
              "#0d0887"
             ],
             [
              0.1111111111111111,
              "#46039f"
             ],
             [
              0.2222222222222222,
              "#7201a8"
             ],
             [
              0.3333333333333333,
              "#9c179e"
             ],
             [
              0.4444444444444444,
              "#bd3786"
             ],
             [
              0.5555555555555556,
              "#d8576b"
             ],
             [
              0.6666666666666666,
              "#ed7953"
             ],
             [
              0.7777777777777778,
              "#fb9f3a"
             ],
             [
              0.8888888888888888,
              "#fdca26"
             ],
             [
              1,
              "#f0f921"
             ]
            ],
            "type": "histogram2dcontour"
           }
          ],
          "mesh3d": [
           {
            "colorbar": {
             "outlinewidth": 0,
             "ticks": ""
            },
            "type": "mesh3d"
           }
          ],
          "parcoords": [
           {
            "line": {
             "colorbar": {
              "outlinewidth": 0,
              "ticks": ""
             }
            },
            "type": "parcoords"
           }
          ],
          "pie": [
           {
            "automargin": true,
            "type": "pie"
           }
          ],
          "scatter": [
           {
            "fillpattern": {
             "fillmode": "overlay",
             "size": 10,
             "solidity": 0.2
            },
            "type": "scatter"
           }
          ],
          "scatter3d": [
           {
            "line": {
             "colorbar": {
              "outlinewidth": 0,
              "ticks": ""
             }
            },
            "marker": {
             "colorbar": {
              "outlinewidth": 0,
              "ticks": ""
             }
            },
            "type": "scatter3d"
           }
          ],
          "scattercarpet": [
           {
            "marker": {
             "colorbar": {
              "outlinewidth": 0,
              "ticks": ""
             }
            },
            "type": "scattercarpet"
           }
          ],
          "scattergeo": [
           {
            "marker": {
             "colorbar": {
              "outlinewidth": 0,
              "ticks": ""
             }
            },
            "type": "scattergeo"
           }
          ],
          "scattergl": [
           {
            "marker": {
             "colorbar": {
              "outlinewidth": 0,
              "ticks": ""
             }
            },
            "type": "scattergl"
           }
          ],
          "scattermapbox": [
           {
            "marker": {
             "colorbar": {
              "outlinewidth": 0,
              "ticks": ""
             }
            },
            "type": "scattermapbox"
           }
          ],
          "scatterpolar": [
           {
            "marker": {
             "colorbar": {
              "outlinewidth": 0,
              "ticks": ""
             }
            },
            "type": "scatterpolar"
           }
          ],
          "scatterpolargl": [
           {
            "marker": {
             "colorbar": {
              "outlinewidth": 0,
              "ticks": ""
             }
            },
            "type": "scatterpolargl"
           }
          ],
          "scatterternary": [
           {
            "marker": {
             "colorbar": {
              "outlinewidth": 0,
              "ticks": ""
             }
            },
            "type": "scatterternary"
           }
          ],
          "surface": [
           {
            "colorbar": {
             "outlinewidth": 0,
             "ticks": ""
            },
            "colorscale": [
             [
              0,
              "#0d0887"
             ],
             [
              0.1111111111111111,
              "#46039f"
             ],
             [
              0.2222222222222222,
              "#7201a8"
             ],
             [
              0.3333333333333333,
              "#9c179e"
             ],
             [
              0.4444444444444444,
              "#bd3786"
             ],
             [
              0.5555555555555556,
              "#d8576b"
             ],
             [
              0.6666666666666666,
              "#ed7953"
             ],
             [
              0.7777777777777778,
              "#fb9f3a"
             ],
             [
              0.8888888888888888,
              "#fdca26"
             ],
             [
              1,
              "#f0f921"
             ]
            ],
            "type": "surface"
           }
          ],
          "table": [
           {
            "cells": {
             "fill": {
              "color": "#EBF0F8"
             },
             "line": {
              "color": "white"
             }
            },
            "header": {
             "fill": {
              "color": "#C8D4E3"
             },
             "line": {
              "color": "white"
             }
            },
            "type": "table"
           }
          ]
         },
         "layout": {
          "annotationdefaults": {
           "arrowcolor": "#2a3f5f",
           "arrowhead": 0,
           "arrowwidth": 1
          },
          "autotypenumbers": "strict",
          "coloraxis": {
           "colorbar": {
            "outlinewidth": 0,
            "ticks": ""
           }
          },
          "colorscale": {
           "diverging": [
            [
             0,
             "#8e0152"
            ],
            [
             0.1,
             "#c51b7d"
            ],
            [
             0.2,
             "#de77ae"
            ],
            [
             0.3,
             "#f1b6da"
            ],
            [
             0.4,
             "#fde0ef"
            ],
            [
             0.5,
             "#f7f7f7"
            ],
            [
             0.6,
             "#e6f5d0"
            ],
            [
             0.7,
             "#b8e186"
            ],
            [
             0.8,
             "#7fbc41"
            ],
            [
             0.9,
             "#4d9221"
            ],
            [
             1,
             "#276419"
            ]
           ],
           "sequential": [
            [
             0,
             "#0d0887"
            ],
            [
             0.1111111111111111,
             "#46039f"
            ],
            [
             0.2222222222222222,
             "#7201a8"
            ],
            [
             0.3333333333333333,
             "#9c179e"
            ],
            [
             0.4444444444444444,
             "#bd3786"
            ],
            [
             0.5555555555555556,
             "#d8576b"
            ],
            [
             0.6666666666666666,
             "#ed7953"
            ],
            [
             0.7777777777777778,
             "#fb9f3a"
            ],
            [
             0.8888888888888888,
             "#fdca26"
            ],
            [
             1,
             "#f0f921"
            ]
           ],
           "sequentialminus": [
            [
             0,
             "#0d0887"
            ],
            [
             0.1111111111111111,
             "#46039f"
            ],
            [
             0.2222222222222222,
             "#7201a8"
            ],
            [
             0.3333333333333333,
             "#9c179e"
            ],
            [
             0.4444444444444444,
             "#bd3786"
            ],
            [
             0.5555555555555556,
             "#d8576b"
            ],
            [
             0.6666666666666666,
             "#ed7953"
            ],
            [
             0.7777777777777778,
             "#fb9f3a"
            ],
            [
             0.8888888888888888,
             "#fdca26"
            ],
            [
             1,
             "#f0f921"
            ]
           ]
          },
          "colorway": [
           "#636efa",
           "#EF553B",
           "#00cc96",
           "#ab63fa",
           "#FFA15A",
           "#19d3f3",
           "#FF6692",
           "#B6E880",
           "#FF97FF",
           "#FECB52"
          ],
          "font": {
           "color": "#2a3f5f"
          },
          "geo": {
           "bgcolor": "white",
           "lakecolor": "white",
           "landcolor": "#E5ECF6",
           "showlakes": true,
           "showland": true,
           "subunitcolor": "white"
          },
          "hoverlabel": {
           "align": "left"
          },
          "hovermode": "closest",
          "mapbox": {
           "style": "light"
          },
          "paper_bgcolor": "white",
          "plot_bgcolor": "#E5ECF6",
          "polar": {
           "angularaxis": {
            "gridcolor": "white",
            "linecolor": "white",
            "ticks": ""
           },
           "bgcolor": "#E5ECF6",
           "radialaxis": {
            "gridcolor": "white",
            "linecolor": "white",
            "ticks": ""
           }
          },
          "scene": {
           "xaxis": {
            "backgroundcolor": "#E5ECF6",
            "gridcolor": "white",
            "gridwidth": 2,
            "linecolor": "white",
            "showbackground": true,
            "ticks": "",
            "zerolinecolor": "white"
           },
           "yaxis": {
            "backgroundcolor": "#E5ECF6",
            "gridcolor": "white",
            "gridwidth": 2,
            "linecolor": "white",
            "showbackground": true,
            "ticks": "",
            "zerolinecolor": "white"
           },
           "zaxis": {
            "backgroundcolor": "#E5ECF6",
            "gridcolor": "white",
            "gridwidth": 2,
            "linecolor": "white",
            "showbackground": true,
            "ticks": "",
            "zerolinecolor": "white"
           }
          },
          "shapedefaults": {
           "line": {
            "color": "#2a3f5f"
           }
          },
          "ternary": {
           "aaxis": {
            "gridcolor": "white",
            "linecolor": "white",
            "ticks": ""
           },
           "baxis": {
            "gridcolor": "white",
            "linecolor": "white",
            "ticks": ""
           },
           "bgcolor": "#E5ECF6",
           "caxis": {
            "gridcolor": "white",
            "linecolor": "white",
            "ticks": ""
           }
          },
          "title": {
           "x": 0.05
          },
          "xaxis": {
           "automargin": true,
           "gridcolor": "white",
           "linecolor": "white",
           "ticks": "",
           "title": {
            "standoff": 15
           },
           "zerolinecolor": "white",
           "zerolinewidth": 2
          },
          "yaxis": {
           "automargin": true,
           "gridcolor": "white",
           "linecolor": "white",
           "ticks": "",
           "title": {
            "standoff": 15
           },
           "zerolinecolor": "white",
           "zerolinewidth": 2
          }
         }
        },
        "title": {
         "text": "Total Unblended Cost per Product"
        },
        "xaxis": {
         "anchor": "y",
         "domain": [
          0,
          1
         ],
         "title": {
          "text": "line_item_product_code"
         }
        },
        "yaxis": {
         "anchor": "x",
         "domain": [
          0,
          1
         ],
         "title": {
          "text": "line_item_unblended_cost"
         }
        }
       }
      }
     },
     "metadata": {},
     "output_type": "display_data"
    }
   ],
   "source": [
    "# Total Unblended Cost per Product\n",
    "cost_per_product = df.groupby(\"line_item_product_code\")[\"line_item_unblended_cost\"].sum().reset_index()\n",
    "fig = px.bar(cost_per_product, x=\"line_item_product_code\", y=\"line_item_unblended_cost\", title=\"Total Unblended Cost per Product\")\n",
    "description = \"This report shows the total unblended cost for each AWS product.\"\n",
    "fig.show()"
   ]
  },
  {
   "cell_type": "code",
   "execution_count": 45,
   "metadata": {},
   "outputs": [
    {
     "name": "stderr",
     "output_type": "stream",
     "text": [
      "/home/saradindu/anaconda3/lib/python3.10/site-packages/plotly/express/_core.py:1979: FutureWarning:\n",
      "\n",
      "When grouping with a length-1 list-like, you will need to pass a length-1 tuple to get_group in a future version of pandas. Pass `(name,)` instead of `name` to silence this warning.\n",
      "\n"
     ]
    },
    {
     "data": {
      "application/vnd.plotly.v1+json": {
       "config": {
        "plotlyServerURL": "https://plot.ly"
       },
       "data": [
        {
         "alignmentgroup": "True",
         "hovertemplate": "line_item_product_code=AWSAppRunner<br>line_item_usage_start_date=%{x}<br>line_item_unblended_cost=%{y}<extra></extra>",
         "legendgroup": "AWSAppRunner",
         "marker": {
          "color": "#636efa",
          "pattern": {
           "shape": ""
          }
         },
         "name": "AWSAppRunner",
         "offsetgroup": "AWSAppRunner",
         "orientation": "v",
         "showlegend": true,
         "textposition": "auto",
         "type": "bar",
         "x": [
          "2023-01-01",
          "2023-01-02",
          "2023-01-03",
          "2023-01-04",
          "2023-01-05",
          "2023-01-06",
          "2023-01-07",
          "2023-01-08",
          "2023-01-09",
          "2023-01-10",
          "2023-01-11",
          "2023-01-12",
          "2023-01-13",
          "2023-01-14",
          "2023-01-15",
          "2023-01-16",
          "2023-01-17",
          "2023-01-18",
          "2023-01-19",
          "2023-01-20",
          "2023-01-21",
          "2023-01-22",
          "2023-01-23",
          "2023-01-24",
          "2023-01-25",
          "2023-01-26",
          "2023-01-27",
          "2023-01-28",
          "2023-01-29",
          "2023-01-30",
          "2023-01-31"
         ],
         "xaxis": "x",
         "y": [
          -0.0742351425,
          -0.1112831404,
          -0.1450628672,
          -0.15087109869999998,
          -0.1312017121,
          -0.1363793369,
          -0.1699744622,
          -0.1118108023,
          -0.1972573359,
          -0.1568824512,
          -0.31681793540000003,
          -0.1535385472,
          -0.1345002789,
          -0.2212449359,
          -0.1333964682,
          -0.2841260013,
          -0.1992133771,
          -0.1727141821,
          -0.1451481416,
          -0.20743723520000001,
          -0.2533200696,
          -0.1297740987,
          -0.2575045338,
          -0.1851197783,
          -0.1891521453,
          -0.1362151483,
          -0.14921200369999998,
          -0.1972560184,
          -0.1369082161,
          -0.2046056027,
          -0.1751903281
         ],
         "yaxis": "y"
        },
        {
         "alignmentgroup": "True",
         "hovertemplate": "line_item_product_code=AWSBackup<br>line_item_usage_start_date=%{x}<br>line_item_unblended_cost=%{y}<extra></extra>",
         "legendgroup": "AWSBackup",
         "marker": {
          "color": "#EF553B",
          "pattern": {
           "shape": ""
          }
         },
         "name": "AWSBackup",
         "offsetgroup": "AWSBackup",
         "orientation": "v",
         "showlegend": true,
         "textposition": "auto",
         "type": "bar",
         "x": [
          "2023-01-01",
          "2023-01-02",
          "2023-01-03",
          "2023-01-04",
          "2023-01-05",
          "2023-01-06",
          "2023-01-07",
          "2023-01-08",
          "2023-01-09",
          "2023-01-10",
          "2023-01-11",
          "2023-01-12",
          "2023-01-13",
          "2023-01-14",
          "2023-01-15",
          "2023-01-16",
          "2023-01-17",
          "2023-01-18",
          "2023-01-19",
          "2023-01-20",
          "2023-01-21",
          "2023-01-22",
          "2023-01-23",
          "2023-01-24",
          "2023-01-25",
          "2023-01-26",
          "2023-01-27",
          "2023-01-28",
          "2023-01-29",
          "2023-01-30",
          "2023-01-31"
         ],
         "xaxis": "x",
         "y": [
          -0.0010041330000000002,
          -2e-9,
          -0.0010034747,
          -1.2e-9,
          -0.002596498,
          -0.00188199,
          -1.2e-9,
          -0.0029488935,
          -0.0029744149,
          -1.2e-9,
          -3.646e-7,
          -0.0021276984999999997,
          -0.0010178933999999999,
          -0.0010297494,
          -1.2e-9,
          -0.0010261564,
          -0.0039585276,
          -0.004350464,
          -0.0047236877,
          -0.00042510279999999996,
          -0.0037045707,
          -0.0037061965,
          -0.001720101,
          -0.0037974406,
          -0.0049079378,
          -0.0039542013,
          -0.0051602721,
          -0.0051121275,
          -0.0010370622,
          -8e-10,
          -0.0061470998
         ],
         "yaxis": "y"
        },
        {
         "alignmentgroup": "True",
         "hovertemplate": "line_item_product_code=AWSCloudMap<br>line_item_usage_start_date=%{x}<br>line_item_unblended_cost=%{y}<extra></extra>",
         "legendgroup": "AWSCloudMap",
         "marker": {
          "color": "#00cc96",
          "pattern": {
           "shape": ""
          }
         },
         "name": "AWSCloudMap",
         "offsetgroup": "AWSCloudMap",
         "orientation": "v",
         "showlegend": true,
         "textposition": "auto",
         "type": "bar",
         "x": [
          "2023-01-01",
          "2023-01-02",
          "2023-01-03",
          "2023-01-04",
          "2023-01-05",
          "2023-01-06",
          "2023-01-07",
          "2023-01-08",
          "2023-01-09",
          "2023-01-10",
          "2023-01-11",
          "2023-01-12",
          "2023-01-13",
          "2023-01-14",
          "2023-01-15",
          "2023-01-16",
          "2023-01-17",
          "2023-01-18",
          "2023-01-19",
          "2023-01-20",
          "2023-01-21",
          "2023-01-22",
          "2023-01-23",
          "2023-01-24",
          "2023-01-25",
          "2023-01-26",
          "2023-01-27",
          "2023-01-28",
          "2023-01-29",
          "2023-01-30",
          "2023-01-31"
         ],
         "xaxis": "x",
         "y": [
          -0.00021774240000000002,
          -0.0001995972,
          -0.0001270164,
          -0.000181452,
          -0.0001995972,
          -0.000090726,
          -0.0001633068,
          -0.0001995972,
          -0.0001633068,
          -0.0001451616,
          -0.000181452,
          -0.000181452,
          -0.0001633068,
          -0.0001270164,
          -0.000181452,
          -0.0001995972,
          -0.00021774240000000002,
          -0.0001270164,
          -0.000090726,
          -0.000090726,
          -0.0001633068,
          -0.00010887120000000001,
          -0.0001270164,
          -0.000181452,
          -0.00021774240000000002,
          -0.0001633068,
          -0.0001270164,
          -0.0001451616,
          -0.0001270164,
          -0.0001451616,
          -0.000181452
         ],
         "yaxis": "y"
        },
        {
         "alignmentgroup": "True",
         "hovertemplate": "line_item_product_code=AWSCloudTrail<br>line_item_usage_start_date=%{x}<br>line_item_unblended_cost=%{y}<extra></extra>",
         "legendgroup": "AWSCloudTrail",
         "marker": {
          "color": "#ab63fa",
          "pattern": {
           "shape": ""
          }
         },
         "name": "AWSCloudTrail",
         "offsetgroup": "AWSCloudTrail",
         "orientation": "v",
         "showlegend": true,
         "textposition": "auto",
         "type": "bar",
         "x": [
          "2023-01-01",
          "2023-01-02",
          "2023-01-03",
          "2023-01-04",
          "2023-01-05",
          "2023-01-06",
          "2023-01-07",
          "2023-01-08",
          "2023-01-09",
          "2023-01-10",
          "2023-01-11",
          "2023-01-12",
          "2023-01-13",
          "2023-01-14",
          "2023-01-15",
          "2023-01-16",
          "2023-01-17",
          "2023-01-18",
          "2023-01-19",
          "2023-01-20",
          "2023-01-25"
         ],
         "xaxis": "x",
         "y": [
          -0.0360423,
          -0.0438723,
          -0.056805299999999996,
          -0.043216199999999996,
          -0.0684315,
          -0.0727785,
          -0.051721199999999995,
          -0.045743400000000004,
          -0.0408537,
          -0.0735912,
          -0.0508005,
          -0.0670842,
          -0.0403866,
          -0.0270864,
          -0.020560500000000002,
          -0.049383,
          -0.0597807,
          -0.0675702,
          -0.0364554,
          -0.0298782,
          -2.7e-7
         ],
         "yaxis": "y"
        },
        {
         "alignmentgroup": "True",
         "hovertemplate": "line_item_product_code=AWSCodeArtifact<br>line_item_usage_start_date=%{x}<br>line_item_unblended_cost=%{y}<extra></extra>",
         "legendgroup": "AWSCodeArtifact",
         "marker": {
          "color": "#FFA15A",
          "pattern": {
           "shape": ""
          }
         },
         "name": "AWSCodeArtifact",
         "offsetgroup": "AWSCodeArtifact",
         "orientation": "v",
         "showlegend": true,
         "textposition": "auto",
         "type": "bar",
         "x": [
          "2023-01-01",
          "2023-01-02",
          "2023-01-03",
          "2023-01-04",
          "2023-01-05",
          "2023-01-06",
          "2023-01-07",
          "2023-01-08",
          "2023-01-09",
          "2023-01-10",
          "2023-01-11",
          "2023-01-12",
          "2023-01-13",
          "2023-01-14",
          "2023-01-15",
          "2023-01-16",
          "2023-01-17",
          "2023-01-18",
          "2023-01-19",
          "2023-01-20",
          "2023-01-21",
          "2023-01-22",
          "2023-01-23",
          "2023-01-24",
          "2023-01-25",
          "2023-01-26",
          "2023-01-27",
          "2023-01-28",
          "2023-01-29",
          "2023-01-30",
          "2023-01-31"
         ],
         "xaxis": "x",
         "y": [
          -0.0017664874,
          -0.1053536527,
          -0.0640068297,
          -0.0814548346,
          -0.1091375644,
          -0.1700648935,
          -0.0033630723999999996,
          -0.0052190331,
          -0.0865090515,
          -0.0608023029,
          -0.0528530127,
          -0.0732793987,
          -0.1300894478,
          -0.0157728039,
          -0.0037825994,
          -0.1237794636,
          -0.1335725424,
          -0.1287996619,
          -0.0670775212,
          -0.0700260029,
          -0.0160237364,
          -0.0031287928000000003,
          -0.1926476045,
          -0.1420551188,
          -0.2157046869,
          -0.1252455352,
          -0.3754605374,
          -0.0189992687,
          -0.0215100234,
          -0.1706059909,
          -0.0467529478
         ],
         "yaxis": "y"
        },
        {
         "alignmentgroup": "True",
         "hovertemplate": "line_item_product_code=AWSCodePipeline<br>line_item_usage_start_date=%{x}<br>line_item_unblended_cost=%{y}<extra></extra>",
         "legendgroup": "AWSCodePipeline",
         "marker": {
          "color": "#19d3f3",
          "pattern": {
           "shape": ""
          }
         },
         "name": "AWSCodePipeline",
         "offsetgroup": "AWSCodePipeline",
         "orientation": "v",
         "showlegend": true,
         "textposition": "auto",
         "type": "bar",
         "x": [
          "2023-01-01",
          "2023-01-03",
          "2023-01-04",
          "2023-01-05",
          "2023-01-09",
          "2023-01-10",
          "2023-01-13",
          "2023-01-16",
          "2023-01-24",
          "2023-01-25",
          "2023-01-29"
         ],
         "xaxis": "x",
         "y": [
          -0.27,
          -0.135,
          -0.27,
          -0.27,
          -0.54,
          -0.135,
          -0.135,
          -0.27,
          -0.405,
          -0.27,
          -1.8900000000000001
         ],
         "yaxis": "y"
        },
        {
         "alignmentgroup": "True",
         "hovertemplate": "line_item_product_code=AWSConfig<br>line_item_usage_start_date=%{x}<br>line_item_unblended_cost=%{y}<extra></extra>",
         "legendgroup": "AWSConfig",
         "marker": {
          "color": "#FF6692",
          "pattern": {
           "shape": ""
          }
         },
         "name": "AWSConfig",
         "offsetgroup": "AWSConfig",
         "orientation": "v",
         "showlegend": true,
         "textposition": "auto",
         "type": "bar",
         "x": [
          "2023-01-01",
          "2023-01-02",
          "2023-01-03",
          "2023-01-04",
          "2023-01-05",
          "2023-01-06",
          "2023-01-07",
          "2023-01-08",
          "2023-01-09",
          "2023-01-10",
          "2023-01-11",
          "2023-01-13",
          "2023-01-15",
          "2023-01-16",
          "2023-01-17",
          "2023-01-19",
          "2023-01-21",
          "2023-01-22",
          "2023-01-23",
          "2023-01-25",
          "2023-01-26",
          "2023-01-27",
          "2023-01-28",
          "2023-01-31"
         ],
         "xaxis": "x",
         "y": [
          -0.001215,
          -0.00189,
          -0.00324,
          -0.002295,
          -0.000945,
          -0.00135,
          -0.00108,
          -0.00081,
          -0.002295,
          -0.00216,
          -0.000675,
          -0.002025,
          -0.002025,
          -0.000675,
          -0.00243,
          -0.00108,
          -0.00108,
          -0.00324,
          -0.001215,
          -0.00216,
          -0.00108,
          -0.00324,
          -0.000675,
          -0.00162
         ],
         "yaxis": "y"
        },
        {
         "alignmentgroup": "True",
         "hovertemplate": "line_item_product_code=AWSCostExplorer<br>line_item_usage_start_date=%{x}<br>line_item_unblended_cost=%{y}<extra></extra>",
         "legendgroup": "AWSCostExplorer",
         "marker": {
          "color": "#B6E880",
          "pattern": {
           "shape": ""
          }
         },
         "name": "AWSCostExplorer",
         "offsetgroup": "AWSCostExplorer",
         "orientation": "v",
         "showlegend": true,
         "textposition": "auto",
         "type": "bar",
         "x": [
          "2023-01-01",
          "2023-01-02",
          "2023-01-04",
          "2023-01-05",
          "2023-01-06",
          "2023-01-07",
          "2023-01-08",
          "2023-01-09",
          "2023-01-10",
          "2023-01-11",
          "2023-01-13",
          "2023-01-14",
          "2023-01-15",
          "2023-01-16",
          "2023-01-17",
          "2023-01-18",
          "2023-01-19",
          "2023-01-20",
          "2023-01-21",
          "2023-01-22",
          "2023-01-23",
          "2023-01-24",
          "2023-01-25",
          "2023-01-26",
          "2023-01-28",
          "2023-01-29",
          "2023-01-30",
          "2023-01-31"
         ],
         "xaxis": "x",
         "y": [
          -0.0027,
          -0.0648,
          -0.2771748145,
          -0.00135,
          -0.28311416130000006,
          -0.0054,
          -0.2768558661,
          -0.06345,
          -0.27999243869999996,
          -0.284272679,
          -0.006750000000000001,
          -0.2834567564,
          -0.2873965355,
          -0.0378,
          -0.0054,
          -0.2954729758,
          -0.006750000000000001,
          -0.006750000000000001,
          -0.2909266548,
          -0.00135,
          -0.2910154936,
          -0.3050592823,
          -0.2996176064,
          -0.29316743710000004,
          -0.0054,
          -0.3023551452,
          -0.3048365758,
          -0.3296766536
         ],
         "yaxis": "y"
        },
        {
         "alignmentgroup": "True",
         "hovertemplate": "line_item_product_code=AWSDirectoryService<br>line_item_usage_start_date=%{x}<br>line_item_unblended_cost=%{y}<extra></extra>",
         "legendgroup": "AWSDirectoryService",
         "marker": {
          "color": "#FF97FF",
          "pattern": {
           "shape": ""
          }
         },
         "name": "AWSDirectoryService",
         "offsetgroup": "AWSDirectoryService",
         "orientation": "v",
         "showlegend": true,
         "textposition": "auto",
         "type": "bar",
         "x": [
          "2023-01-01",
          "2023-01-02",
          "2023-01-03",
          "2023-01-04",
          "2023-01-05",
          "2023-01-06",
          "2023-01-07",
          "2023-01-08",
          "2023-01-09",
          "2023-01-10",
          "2023-01-11",
          "2023-01-12",
          "2023-01-13",
          "2023-01-14",
          "2023-01-15",
          "2023-01-16",
          "2023-01-17",
          "2023-01-18",
          "2023-01-19",
          "2023-01-20",
          "2023-01-22",
          "2023-01-23",
          "2023-01-24",
          "2023-01-25",
          "2023-01-26",
          "2023-01-27",
          "2023-01-28",
          "2023-01-29",
          "2023-01-30",
          "2023-01-31"
         ],
         "xaxis": "x",
         "y": [
          -0.2279440662,
          -0.2511879351,
          -0.2746397982,
          -0.2137629147,
          -0.2307589755,
          -0.18942541159999998,
          -0.1609843454,
          -0.2912675202,
          -0.2051648824,
          -0.2801456668,
          -0.2250817725,
          -0.2201878852,
          -0.26651705800000003,
          -0.2651617921,
          -0.2899799026,
          -0.2176217074,
          -0.2404745969,
          -0.2082635832,
          -0.12361921049999999,
          -0.07151151929999999,
          -0.0251058375,
          -0.0736987256,
          -0.0236691206,
          -0.0336801769,
          -0.0480234956,
          -0.1202861382,
          -0.023190675,
          -0.0465602794,
          -0.0953551031,
          -0.1194692926
         ],
         "yaxis": "y"
        },
        {
         "alignmentgroup": "True",
         "hovertemplate": "line_item_product_code=AWSELB<br>line_item_usage_start_date=%{x}<br>line_item_unblended_cost=%{y}<extra></extra>",
         "legendgroup": "AWSELB",
         "marker": {
          "color": "#FECB52",
          "pattern": {
           "shape": ""
          }
         },
         "name": "AWSELB",
         "offsetgroup": "AWSELB",
         "orientation": "v",
         "showlegend": true,
         "textposition": "auto",
         "type": "bar",
         "x": [
          "2023-01-01",
          "2023-01-02",
          "2023-01-03",
          "2023-01-04",
          "2023-01-05",
          "2023-01-06",
          "2023-01-07",
          "2023-01-08",
          "2023-01-09",
          "2023-01-10",
          "2023-01-11",
          "2023-01-12",
          "2023-01-13",
          "2023-01-14",
          "2023-01-15",
          "2023-01-16",
          "2023-01-17",
          "2023-01-18",
          "2023-01-19",
          "2023-01-20",
          "2023-01-21",
          "2023-01-22",
          "2023-01-23",
          "2023-01-24",
          "2023-01-25",
          "2023-01-26",
          "2023-01-27",
          "2023-01-28",
          "2023-01-29",
          "2023-01-30",
          "2023-01-31"
         ],
         "xaxis": "x",
         "y": [
          -16.9416198851,
          -29.8687859139,
          -38.5962370365,
          -35.1438972356,
          -27.279657425,
          -29.2116855117,
          -24.017952248100002,
          -20.3654822831,
          -27.1347524479,
          -30.746482555700002,
          -29.1410499464,
          -34.3683980534,
          -29.5080845981,
          -25.7187586298,
          -20.1522988287,
          -19.5849849035,
          -27.6148046046,
          -27.3171370901,
          -20.7536017043,
          -29.6480323029,
          -26.2299555907,
          -19.656231881,
          -23.240193713900002,
          -32.2008548593,
          -25.8421694171,
          -18.4476682493,
          -29.1121792249,
          -24.8543008088,
          -25.6091679547,
          -24.2859501172,
          -24.8990810959
         ],
         "yaxis": "y"
        },
        {
         "alignmentgroup": "True",
         "hovertemplate": "line_item_product_code=AWSEvents<br>line_item_usage_start_date=%{x}<br>line_item_unblended_cost=%{y}<extra></extra>",
         "legendgroup": "AWSEvents",
         "marker": {
          "color": "#636efa",
          "pattern": {
           "shape": ""
          }
         },
         "name": "AWSEvents",
         "offsetgroup": "AWSEvents",
         "orientation": "v",
         "showlegend": true,
         "textposition": "auto",
         "type": "bar",
         "x": [
          "2023-01-01",
          "2023-01-02",
          "2023-01-03",
          "2023-01-04",
          "2023-01-05",
          "2023-01-06",
          "2023-01-07",
          "2023-01-08",
          "2023-01-09",
          "2023-01-10",
          "2023-01-11",
          "2023-01-12",
          "2023-01-13",
          "2023-01-14",
          "2023-01-15",
          "2023-01-16",
          "2023-01-17",
          "2023-01-18",
          "2023-01-19",
          "2023-01-20",
          "2023-01-21",
          "2023-01-22",
          "2023-01-23",
          "2023-01-24",
          "2023-01-25",
          "2023-01-26",
          "2023-01-27",
          "2023-01-28",
          "2023-01-29",
          "2023-01-30",
          "2023-01-31"
         ],
         "xaxis": "x",
         "y": [
          -0.000459378,
          -0.0007824924,
          -0.000422172,
          -0.000706644,
          -0.000686448,
          -0.0005592618,
          -0.0008462826,
          -0.0006553548,
          -0.0008261243999999999,
          -0.0003818394,
          -0.0009084744,
          -0.0007154622,
          -0.0008980686,
          -0.0005293512,
          -0.0007150572,
          -0.0006952608,
          -0.000994113,
          -0.0009267318,
          -0.0002141802,
          -0.0008531622,
          -0.0007351236000000001,
          -0.000544347,
          -0.0006443118,
          -0.0010865988,
          -0.00055431,
          -0.0003725298,
          -0.0006469902,
          -0.0006834078,
          -0.0005773842,
          -0.000905148,
          -0.0007005204
         ],
         "yaxis": "y"
        },
        {
         "alignmentgroup": "True",
         "hovertemplate": "line_item_product_code=AWSGlue<br>line_item_usage_start_date=%{x}<br>line_item_unblended_cost=%{y}<extra></extra>",
         "legendgroup": "AWSGlue",
         "marker": {
          "color": "#EF553B",
          "pattern": {
           "shape": ""
          }
         },
         "name": "AWSGlue",
         "offsetgroup": "AWSGlue",
         "orientation": "v",
         "showlegend": true,
         "textposition": "auto",
         "type": "bar",
         "x": [
          "2023-01-01",
          "2023-01-02",
          "2023-01-03",
          "2023-01-04",
          "2023-01-05",
          "2023-01-07",
          "2023-01-08",
          "2023-01-09",
          "2023-01-10",
          "2023-01-11",
          "2023-01-12",
          "2023-01-13",
          "2023-01-14",
          "2023-01-15",
          "2023-01-16",
          "2023-01-17",
          "2023-01-18",
          "2023-01-19",
          "2023-01-20",
          "2023-01-21",
          "2023-01-22",
          "2023-01-23",
          "2023-01-24",
          "2023-01-25",
          "2023-01-26",
          "2023-01-27",
          "2023-01-28",
          "2023-01-29",
          "2023-01-30",
          "2023-01-31"
         ],
         "xaxis": "x",
         "y": [
          -0.0022193568000000003,
          -0.000013365000000000002,
          -0.0021252834,
          -0.0021974868,
          -0.0026776116,
          -0.0021229668000000003,
          -0.00001836,
          -1.35e-7,
          -0.0000018900000000000001,
          -0.0022522968,
          -0.0030224718,
          -0.00552744,
          -0.00377055,
          -0.0051167862,
          -0.002668275,
          -0.0061926768,
          -0.004389525,
          -0.0066447216,
          -0.00464913,
          -0.0049001166,
          -0.0071322066,
          -0.0021192299999999997,
          -0.00389097,
          -0.00572346,
          -0.00783351,
          -0.0065975849999999996,
          -0.00574533,
          -0.00369063,
          -0.11501582580000001,
          -0.0090939618
         ],
         "yaxis": "y"
        },
        {
         "alignmentgroup": "True",
         "hovertemplate": "line_item_product_code=AWSLambda<br>line_item_usage_start_date=%{x}<br>line_item_unblended_cost=%{y}<extra></extra>",
         "legendgroup": "AWSLambda",
         "marker": {
          "color": "#00cc96",
          "pattern": {
           "shape": ""
          }
         },
         "name": "AWSLambda",
         "offsetgroup": "AWSLambda",
         "orientation": "v",
         "showlegend": true,
         "textposition": "auto",
         "type": "bar",
         "x": [
          "2023-01-01",
          "2023-01-02",
          "2023-01-03",
          "2023-01-04",
          "2023-01-05",
          "2023-01-06",
          "2023-01-07",
          "2023-01-08",
          "2023-01-09",
          "2023-01-10",
          "2023-01-11",
          "2023-01-12",
          "2023-01-13",
          "2023-01-14",
          "2023-01-15",
          "2023-01-16",
          "2023-01-17",
          "2023-01-18",
          "2023-01-19",
          "2023-01-20",
          "2023-01-21",
          "2023-01-22",
          "2023-01-23",
          "2023-01-24",
          "2023-01-25",
          "2023-01-26",
          "2023-01-27",
          "2023-01-28",
          "2023-01-29",
          "2023-01-30",
          "2023-01-31"
         ],
         "xaxis": "x",
         "y": [
          -1.5075661827,
          -3.9272999566999998,
          -4.002112376,
          -4.2730791062,
          -3.0274017941999998,
          -3.4461421749,
          -2.5082511900999998,
          -2.1908434632,
          -2.5870891083,
          -3.5643060307,
          -3.4480296856,
          -2.9347424887,
          -4.118235653,
          -2.4008929311,
          -1.2664778632,
          -3.319772333,
          -4.1084720917,
          -3.5487532596999998,
          -2.7135308842,
          -4.0431230198,
          -2.861497521,
          -0.9981126700999999,
          -2.9703842066,
          -5.1473396447,
          -3.5381695114,
          -1.9428533781,
          -3.6890440471,
          -3.0293174143,
          -2.2241823888,
          -2.733928987,
          -3.8952457511
         ],
         "yaxis": "y"
        },
        {
         "alignmentgroup": "True",
         "hovertemplate": "line_item_product_code=AWSQueueService<br>line_item_usage_start_date=%{x}<br>line_item_unblended_cost=%{y}<extra></extra>",
         "legendgroup": "AWSQueueService",
         "marker": {
          "color": "#ab63fa",
          "pattern": {
           "shape": ""
          }
         },
         "name": "AWSQueueService",
         "offsetgroup": "AWSQueueService",
         "orientation": "v",
         "showlegend": true,
         "textposition": "auto",
         "type": "bar",
         "x": [
          "2023-01-01",
          "2023-01-02",
          "2023-01-03",
          "2023-01-04",
          "2023-01-05",
          "2023-01-06",
          "2023-01-07",
          "2023-01-08",
          "2023-01-09",
          "2023-01-10",
          "2023-01-11",
          "2023-01-12",
          "2023-01-13",
          "2023-01-14",
          "2023-01-15",
          "2023-01-16",
          "2023-01-17",
          "2023-01-18",
          "2023-01-19",
          "2023-01-20",
          "2023-01-21",
          "2023-01-22",
          "2023-01-23",
          "2023-01-24",
          "2023-01-25",
          "2023-01-26",
          "2023-01-27",
          "2023-01-28",
          "2023-01-29",
          "2023-01-30",
          "2023-01-31"
         ],
         "xaxis": "x",
         "y": [
          -20.0922657482,
          -18.4098456568,
          -20.6877392043,
          -22.5703524109,
          -20.3314017845,
          -14.2760084561,
          -16.543052758800002,
          -12.436236259,
          -20.6608007242,
          -25.2202766375,
          -24.6403479074,
          -23.6272322906,
          -20.7247171273,
          -18.387518753400002,
          -13.5915483003,
          -22.5764826158,
          -19.4046936138,
          -29.7230566107,
          -21.5319376735,
          -16.1389753013,
          -17.2772173698,
          -18.7487260673,
          -18.0335291273,
          -28.119901539,
          -22.1717647763,
          -13.7522789992,
          -23.8966933777,
          -18.759728528100002,
          -18.0853568688,
          -20.6245907299,
          -22.9389341921
         ],
         "yaxis": "y"
        },
        {
         "alignmentgroup": "True",
         "hovertemplate": "line_item_product_code=AWSSecretsManager<br>line_item_usage_start_date=%{x}<br>line_item_unblended_cost=%{y}<extra></extra>",
         "legendgroup": "AWSSecretsManager",
         "marker": {
          "color": "#FFA15A",
          "pattern": {
           "shape": ""
          }
         },
         "name": "AWSSecretsManager",
         "offsetgroup": "AWSSecretsManager",
         "orientation": "v",
         "showlegend": true,
         "textposition": "auto",
         "type": "bar",
         "x": [
          "2023-01-01",
          "2023-01-02",
          "2023-01-03",
          "2023-01-04",
          "2023-01-05",
          "2023-01-06",
          "2023-01-07",
          "2023-01-08",
          "2023-01-09",
          "2023-01-10",
          "2023-01-11",
          "2023-01-12",
          "2023-01-13",
          "2023-01-14",
          "2023-01-15",
          "2023-01-16",
          "2023-01-17",
          "2023-01-18",
          "2023-01-19",
          "2023-01-20",
          "2023-01-21",
          "2023-01-22",
          "2023-01-23",
          "2023-01-24",
          "2023-01-25",
          "2023-01-26",
          "2023-01-27",
          "2023-01-28",
          "2023-01-29",
          "2023-01-30",
          "2023-01-31"
         ],
         "xaxis": "x",
         "y": [
          -0.3496418893,
          -0.388405486,
          -0.3025237907,
          -0.4448003495,
          -0.3149236138,
          -0.362363587,
          -0.29264179090000003,
          -0.3503193796,
          -0.329276878,
          -0.3288794196,
          -0.401171433,
          -0.4160111995,
          -0.3794404104,
          -0.3482450542,
          -0.3734401258,
          -0.431317267,
          -0.4416450494,
          -0.3660047153,
          -0.4275773522,
          -0.4352334127,
          -0.3668507316,
          -0.354871549,
          -0.3225717619,
          -0.3705126416,
          -0.4363400936,
          -0.3983468048,
          -0.3893648616,
          -0.3407194698,
          -0.3671195693,
          -0.3672410624,
          -0.4038711207
         ],
         "yaxis": "y"
        },
        {
         "alignmentgroup": "True",
         "hovertemplate": "line_item_product_code=AWSSystemsManager<br>line_item_usage_start_date=%{x}<br>line_item_unblended_cost=%{y}<extra></extra>",
         "legendgroup": "AWSSystemsManager",
         "marker": {
          "color": "#19d3f3",
          "pattern": {
           "shape": ""
          }
         },
         "name": "AWSSystemsManager",
         "offsetgroup": "AWSSystemsManager",
         "orientation": "v",
         "showlegend": true,
         "textposition": "auto",
         "type": "bar",
         "x": [
          "2023-01-01",
          "2023-01-02",
          "2023-01-03",
          "2023-01-04",
          "2023-01-05",
          "2023-01-06",
          "2023-01-07",
          "2023-01-08",
          "2023-01-09",
          "2023-01-10",
          "2023-01-11",
          "2023-01-12",
          "2023-01-13",
          "2023-01-14",
          "2023-01-15",
          "2023-01-16",
          "2023-01-17",
          "2023-01-18",
          "2023-01-19",
          "2023-01-20",
          "2023-01-21",
          "2023-01-22",
          "2023-01-23",
          "2023-01-24",
          "2023-01-25",
          "2023-01-26",
          "2023-01-27",
          "2023-01-28",
          "2023-01-29",
          "2023-01-30",
          "2023-01-31"
         ],
         "xaxis": "x",
         "y": [
          -0.011097216,
          -0.007678611,
          -0.023096583,
          -0.042449022,
          -0.019276326,
          -0.024520563,
          -0.023152743,
          -0.017556075,
          -0.024502284,
          -0.023800608,
          -0.064172007,
          -0.02257308,
          -0.016398585,
          -0.018474642,
          -0.025480332,
          -0.021949299000000002,
          -0.036237024,
          -0.028645812,
          -0.024230097,
          -0.027754947,
          -0.037215099,
          -0.011715489,
          -0.019098396,
          -0.032635791,
          -0.034071111,
          -0.008344674,
          -0.025862139,
          -0.025206903,
          -0.006601662,
          -0.036419247,
          -0.018960642
         ],
         "yaxis": "y"
        },
        {
         "alignmentgroup": "True",
         "hovertemplate": "line_item_product_code=AmazonApiGateway<br>line_item_usage_start_date=%{x}<br>line_item_unblended_cost=%{y}<extra></extra>",
         "legendgroup": "AmazonApiGateway",
         "marker": {
          "color": "#FF6692",
          "pattern": {
           "shape": ""
          }
         },
         "name": "AmazonApiGateway",
         "offsetgroup": "AmazonApiGateway",
         "orientation": "v",
         "showlegend": true,
         "textposition": "auto",
         "type": "bar",
         "x": [
          "2023-01-01",
          "2023-01-02",
          "2023-01-03",
          "2023-01-04",
          "2023-01-05",
          "2023-01-06",
          "2023-01-07",
          "2023-01-08",
          "2023-01-09",
          "2023-01-10",
          "2023-01-11",
          "2023-01-12",
          "2023-01-13",
          "2023-01-14",
          "2023-01-15",
          "2023-01-16",
          "2023-01-17",
          "2023-01-18",
          "2023-01-19",
          "2023-01-20",
          "2023-01-21",
          "2023-01-22",
          "2023-01-23",
          "2023-01-24",
          "2023-01-25",
          "2023-01-26",
          "2023-01-27",
          "2023-01-28",
          "2023-01-29",
          "2023-01-30",
          "2023-01-31"
         ],
         "xaxis": "x",
         "y": [
          -1.2955816282,
          -3.8284259633,
          -3.5600534268,
          -6.3115483016,
          -5.1550466637,
          -5.8008917878,
          -4.350077308,
          -3.9632527585,
          -4.4999080735,
          -6.0666304813,
          -5.2876274037,
          -4.9076180358,
          -6.5719959319,
          -5.9704058124,
          -2.5738723639,
          -3.9996491324,
          -4.9765042279,
          -5.9371251366,
          -6.458394194,
          -4.2061096816,
          -3.7075922052,
          -2.3747843862,
          -3.2716463934,
          -4.2463161818,
          -5.1827087995,
          -3.1077762084,
          -3.7435462661,
          -3.9229097678000002,
          -2.3967841984,
          -3.9178580977,
          -3.6783981269
         ],
         "yaxis": "y"
        },
        {
         "alignmentgroup": "True",
         "hovertemplate": "line_item_product_code=AmazonAthena<br>line_item_usage_start_date=%{x}<br>line_item_unblended_cost=%{y}<extra></extra>",
         "legendgroup": "AmazonAthena",
         "marker": {
          "color": "#B6E880",
          "pattern": {
           "shape": ""
          }
         },
         "name": "AmazonAthena",
         "offsetgroup": "AmazonAthena",
         "orientation": "v",
         "showlegend": true,
         "textposition": "auto",
         "type": "bar",
         "x": [
          "2023-01-01",
          "2023-01-02",
          "2023-01-03",
          "2023-01-04",
          "2023-01-05",
          "2023-01-06",
          "2023-01-07",
          "2023-01-08",
          "2023-01-09",
          "2023-01-10",
          "2023-01-11",
          "2023-01-12",
          "2023-01-13",
          "2023-01-14",
          "2023-01-15",
          "2023-01-16",
          "2023-01-17",
          "2023-01-18",
          "2023-01-19",
          "2023-01-20",
          "2023-01-21",
          "2023-01-22",
          "2023-01-23",
          "2023-01-24",
          "2023-01-25",
          "2023-01-26",
          "2023-01-27",
          "2023-01-28",
          "2023-01-29",
          "2023-01-30",
          "2023-01-31"
         ],
         "xaxis": "x",
         "y": [
          -0.00013297500000000002,
          -0.0000783,
          -0.0000513,
          -0.039678525,
          -0.1969623,
          -0.012683925,
          -0.010432799999999999,
          -0.01575315,
          -0.0006682499999999999,
          -0.017277975,
          -0.00050625,
          -0.015633,
          -0.0114075,
          -0.00528795,
          -0.002483325,
          -0.02912625,
          -0.02194695,
          -0.0000405,
          -0.013198275,
          -0.017153099999999998,
          -0.0007344000000000001,
          -0.005304825,
          -0.009955575000000001,
          -0.007683524999999999,
          -0.005271075,
          -0.0024759,
          -0.00534735,
          -0.005323725,
          -0.0181062,
          -0.0181575,
          -0.0053304749999999994
         ],
         "yaxis": "y"
        },
        {
         "alignmentgroup": "True",
         "hovertemplate": "line_item_product_code=AmazonCloudFront<br>line_item_usage_start_date=%{x}<br>line_item_unblended_cost=%{y}<extra></extra>",
         "legendgroup": "AmazonCloudFront",
         "marker": {
          "color": "#FF97FF",
          "pattern": {
           "shape": ""
          }
         },
         "name": "AmazonCloudFront",
         "offsetgroup": "AmazonCloudFront",
         "orientation": "v",
         "showlegend": true,
         "textposition": "auto",
         "type": "bar",
         "x": [
          "2023-01-01",
          "2023-01-02",
          "2023-01-03",
          "2023-01-04",
          "2023-01-05",
          "2023-01-06",
          "2023-01-07",
          "2023-01-08",
          "2023-01-09",
          "2023-01-10",
          "2023-01-11",
          "2023-01-12",
          "2023-01-13",
          "2023-01-14",
          "2023-01-15",
          "2023-01-16",
          "2023-01-17",
          "2023-01-18",
          "2023-01-19",
          "2023-01-20",
          "2023-01-21",
          "2023-01-22",
          "2023-01-23",
          "2023-01-24",
          "2023-01-25",
          "2023-01-26",
          "2023-01-27",
          "2023-01-28",
          "2023-01-29",
          "2023-01-30",
          "2023-01-31"
         ],
         "xaxis": "x",
         "y": [
          -0.3421345197,
          -0.36597714,
          -1.2370439468,
          -0.2454991174,
          -0.1867316777,
          -1.0676709085,
          -1.5045504242999999,
          -0.762467957,
          -0.5701054133,
          -1.3732701588,
          -0.2633826949,
          -0.2371336255,
          -0.1679762557,
          -1.3215438003,
          -1.0498119359,
          -0.7706686504,
          -0.3271734989,
          -0.4939142399,
          -0.2661867266,
          -0.1693953527,
          -0.8811830399,
          -0.5779477969,
          -0.3777755926,
          -0.7776374166,
          -0.8234244332,
          -0.5922701025,
          -0.36455918680000005,
          -1.0993804754,
          -1.5130923555,
          -0.4633686767,
          -0.3132098872
         ],
         "yaxis": "y"
        },
        {
         "alignmentgroup": "True",
         "hovertemplate": "line_item_product_code=AmazonCloudWatch<br>line_item_usage_start_date=%{x}<br>line_item_unblended_cost=%{y}<extra></extra>",
         "legendgroup": "AmazonCloudWatch",
         "marker": {
          "color": "#FECB52",
          "pattern": {
           "shape": ""
          }
         },
         "name": "AmazonCloudWatch",
         "offsetgroup": "AmazonCloudWatch",
         "orientation": "v",
         "showlegend": true,
         "textposition": "auto",
         "type": "bar",
         "x": [
          "2023-01-01",
          "2023-01-02",
          "2023-01-03",
          "2023-01-04",
          "2023-01-05",
          "2023-01-06",
          "2023-01-07",
          "2023-01-08",
          "2023-01-09",
          "2023-01-10",
          "2023-01-11",
          "2023-01-12",
          "2023-01-13",
          "2023-01-14",
          "2023-01-15",
          "2023-01-16",
          "2023-01-17",
          "2023-01-18",
          "2023-01-19",
          "2023-01-20",
          "2023-01-21",
          "2023-01-22",
          "2023-01-23",
          "2023-01-24",
          "2023-01-25",
          "2023-01-26",
          "2023-01-27",
          "2023-01-28",
          "2023-01-29",
          "2023-01-30",
          "2023-01-31"
         ],
         "xaxis": "x",
         "y": [
          -20.8995036725,
          -21.8719792719,
          -21.2640203724,
          -22.1276490098,
          -20.5590343627,
          -22.1864307389,
          -18.4837603894,
          -18.700933599,
          -20.7471178893,
          -20.1585226319,
          -21.2553809638,
          -21.7287644262,
          -20.6907139132,
          -22.0644937612,
          -18.6058535499,
          -23.062144837800002,
          -23.1806443668,
          -22.8863418934,
          -22.3104169754,
          -21.755467804,
          -23.5452715399,
          -19.631335537400002,
          -20.6014862858,
          -23.235995621,
          -23.2835436394,
          -20.3730084645,
          -20.302523086,
          -22.5933807728,
          -20.6678517793,
          -20.2423680603,
          -21.8742737296
         ],
         "yaxis": "y"
        },
        {
         "alignmentgroup": "True",
         "hovertemplate": "line_item_product_code=AmazonDocDB<br>line_item_usage_start_date=%{x}<br>line_item_unblended_cost=%{y}<extra></extra>",
         "legendgroup": "AmazonDocDB",
         "marker": {
          "color": "#636efa",
          "pattern": {
           "shape": ""
          }
         },
         "name": "AmazonDocDB",
         "offsetgroup": "AmazonDocDB",
         "orientation": "v",
         "showlegend": true,
         "textposition": "auto",
         "type": "bar",
         "x": [
          "2023-01-01",
          "2023-01-02",
          "2023-01-03",
          "2023-01-04",
          "2023-01-05",
          "2023-01-06",
          "2023-01-07",
          "2023-01-08",
          "2023-01-09",
          "2023-01-10",
          "2023-01-11",
          "2023-01-12",
          "2023-01-13",
          "2023-01-14",
          "2023-01-15",
          "2023-01-16",
          "2023-01-17",
          "2023-01-18",
          "2023-01-19",
          "2023-01-20",
          "2023-01-21",
          "2023-01-22",
          "2023-01-23",
          "2023-01-24",
          "2023-01-25",
          "2023-01-26",
          "2023-01-27",
          "2023-01-28",
          "2023-01-29",
          "2023-01-30",
          "2023-01-31"
         ],
         "xaxis": "x",
         "y": [
          -1.9429707156,
          -1.4694538927,
          -1.416321352,
          -1.1228412826,
          -2.3946828145,
          -2.1318288868999997,
          -1.9666702853,
          -1.7653127710999998,
          -1.526737512,
          -1.7310979087,
          -1.7957136694,
          -1.7289018691,
          -1.6252314653,
          -1.7679688574999999,
          -1.476095628,
          -1.3364595581,
          -1.6708154043999999,
          -1.6763749318999999,
          -1.8476208946,
          -1.8001367246,
          -1.9811788307999998,
          -1.8747253523999998,
          -2.4288864425,
          -2.0065893135999997,
          -2.2572788301999998,
          -1.9164102737,
          -2.1764461764,
          -2.1000738359,
          -2.0603477544,
          -1.6495534139999999,
          -2.1020403232
         ],
         "yaxis": "y"
        },
        {
         "alignmentgroup": "True",
         "hovertemplate": "line_item_product_code=AmazonDynamoDB<br>line_item_usage_start_date=%{x}<br>line_item_unblended_cost=%{y}<extra></extra>",
         "legendgroup": "AmazonDynamoDB",
         "marker": {
          "color": "#EF553B",
          "pattern": {
           "shape": ""
          }
         },
         "name": "AmazonDynamoDB",
         "offsetgroup": "AmazonDynamoDB",
         "orientation": "v",
         "showlegend": true,
         "textposition": "auto",
         "type": "bar",
         "x": [
          "2023-01-01",
          "2023-01-02",
          "2023-01-03",
          "2023-01-04",
          "2023-01-05",
          "2023-01-06",
          "2023-01-07",
          "2023-01-08",
          "2023-01-09",
          "2023-01-10",
          "2023-01-11",
          "2023-01-12",
          "2023-01-13",
          "2023-01-14",
          "2023-01-15",
          "2023-01-16",
          "2023-01-17",
          "2023-01-18",
          "2023-01-19",
          "2023-01-20",
          "2023-01-21",
          "2023-01-22",
          "2023-01-23",
          "2023-01-24",
          "2023-01-25",
          "2023-01-26",
          "2023-01-27",
          "2023-01-28",
          "2023-01-29",
          "2023-01-30",
          "2023-01-31"
         ],
         "xaxis": "x",
         "y": [
          -4.1759388938,
          -7.9006691755,
          -8.2794768807,
          -9.2696150871,
          -11.0704592158,
          -8.9305156379,
          -10.3703313582,
          -8.0664777005,
          -7.9310042906,
          -9.3154867611,
          -10.3011095644,
          -8.5647944338,
          -9.2921476634,
          -10.1538567406,
          -7.5705399272000005,
          -11.0019735495,
          -13.026922883900001,
          -11.0470426985,
          -11.1716746335,
          -10.772216588400001,
          -10.5504807058,
          -8.9762329214,
          -10.4086669856,
          -11.5126886738,
          -11.7114408044,
          -7.6283031256000005,
          -11.8108306994,
          -10.095635327,
          -7.9948984797,
          -10.866529252,
          -10.8106572746
         ],
         "yaxis": "y"
        },
        {
         "alignmentgroup": "True",
         "hovertemplate": "line_item_product_code=AmazonEC2<br>line_item_usage_start_date=%{x}<br>line_item_unblended_cost=%{y}<extra></extra>",
         "legendgroup": "AmazonEC2",
         "marker": {
          "color": "#00cc96",
          "pattern": {
           "shape": ""
          }
         },
         "name": "AmazonEC2",
         "offsetgroup": "AmazonEC2",
         "orientation": "v",
         "showlegend": true,
         "textposition": "auto",
         "type": "bar",
         "x": [
          "2023-01-01",
          "2023-01-02",
          "2023-01-03",
          "2023-01-04",
          "2023-01-05",
          "2023-01-06",
          "2023-01-07",
          "2023-01-08",
          "2023-01-09",
          "2023-01-10",
          "2023-01-11",
          "2023-01-12",
          "2023-01-13",
          "2023-01-14",
          "2023-01-15",
          "2023-01-16",
          "2023-01-17",
          "2023-01-18",
          "2023-01-19",
          "2023-01-20",
          "2023-01-21",
          "2023-01-22",
          "2023-01-23",
          "2023-01-24",
          "2023-01-25",
          "2023-01-26",
          "2023-01-27",
          "2023-01-28",
          "2023-01-29",
          "2023-01-30",
          "2023-01-31"
         ],
         "xaxis": "x",
         "y": [
          -361.3533323419,
          -220.8287927918,
          -240.90153124,
          -272.0008251012,
          -276.2944338609,
          -277.6282972481,
          -242.0382219021,
          -194.9907127616,
          -234.7965782497,
          -279.1623394789,
          -248.6924641326,
          -243.0471735812,
          -231.5495391868,
          -218.3032781354,
          -170.6406857613,
          -230.2687152661,
          -256.557448236,
          -259.570162688,
          -253.2502398272,
          -274.0571866511,
          -220.7134057296,
          -180.5022176384,
          -249.2005290837,
          -235.8047720862,
          -277.3619934142,
          -192.9080511403,
          -272.860529894,
          -244.0653200771,
          -209.3856968436,
          -236.296898552,
          -271.9011366174
         ],
         "yaxis": "y"
        },
        {
         "alignmentgroup": "True",
         "hovertemplate": "line_item_product_code=AmazonECR<br>line_item_usage_start_date=%{x}<br>line_item_unblended_cost=%{y}<extra></extra>",
         "legendgroup": "AmazonECR",
         "marker": {
          "color": "#ab63fa",
          "pattern": {
           "shape": ""
          }
         },
         "name": "AmazonECR",
         "offsetgroup": "AmazonECR",
         "orientation": "v",
         "showlegend": true,
         "textposition": "auto",
         "type": "bar",
         "x": [
          "2023-01-01",
          "2023-01-02",
          "2023-01-03",
          "2023-01-04",
          "2023-01-05",
          "2023-01-06",
          "2023-01-07",
          "2023-01-08",
          "2023-01-09",
          "2023-01-10",
          "2023-01-11",
          "2023-01-12",
          "2023-01-13",
          "2023-01-14",
          "2023-01-15",
          "2023-01-16",
          "2023-01-17",
          "2023-01-18",
          "2023-01-19",
          "2023-01-20",
          "2023-01-21",
          "2023-01-22",
          "2023-01-23",
          "2023-01-24",
          "2023-01-25",
          "2023-01-26",
          "2023-01-27",
          "2023-01-28",
          "2023-01-29",
          "2023-01-30",
          "2023-01-31"
         ],
         "xaxis": "x",
         "y": [
          -0.1789767928,
          -0.20993453950000002,
          -0.2047020062,
          -0.2002965338,
          -0.24357379839999999,
          -0.2137211021,
          -0.2001550587,
          -0.192708058,
          -0.2077456222,
          -0.2109463111,
          -0.2028386025,
          -0.234338569,
          -0.2746031881,
          -0.2095971785,
          -0.2024505581,
          -0.2089858932,
          -0.2306925154,
          -0.2368567328,
          -0.2278816533,
          -0.206801454,
          -0.2461157614,
          -0.2333849752,
          -0.19075729389999999,
          -0.2167716572,
          -0.2131354235,
          -0.2087825057,
          -0.2500352214,
          -0.1940950932,
          -0.1788417995,
          -0.2093061041,
          -0.20203032
         ],
         "yaxis": "y"
        },
        {
         "alignmentgroup": "True",
         "hovertemplate": "line_item_product_code=AmazonECS<br>line_item_usage_start_date=%{x}<br>line_item_unblended_cost=%{y}<extra></extra>",
         "legendgroup": "AmazonECS",
         "marker": {
          "color": "#FFA15A",
          "pattern": {
           "shape": ""
          }
         },
         "name": "AmazonECS",
         "offsetgroup": "AmazonECS",
         "orientation": "v",
         "showlegend": true,
         "textposition": "auto",
         "type": "bar",
         "x": [
          "2023-01-01",
          "2023-01-02",
          "2023-01-03",
          "2023-01-04",
          "2023-01-05",
          "2023-01-06",
          "2023-01-07",
          "2023-01-08",
          "2023-01-09",
          "2023-01-10",
          "2023-01-11",
          "2023-01-12",
          "2023-01-13",
          "2023-01-14",
          "2023-01-15",
          "2023-01-16",
          "2023-01-17",
          "2023-01-18",
          "2023-01-19",
          "2023-01-20",
          "2023-01-21",
          "2023-01-22",
          "2023-01-23",
          "2023-01-24",
          "2023-01-25",
          "2023-01-26",
          "2023-01-27",
          "2023-01-28",
          "2023-01-29",
          "2023-01-30",
          "2023-01-31"
         ],
         "xaxis": "x",
         "y": [
          -1.9599097671,
          -18.1674046713,
          -17.9900949593,
          -16.2658168683,
          -19.4326296719,
          -15.658749889200001,
          -15.5800231796,
          -3.6120169684,
          -13.0252877321,
          -15.5951383133,
          -18.6720820719,
          -19.69893148,
          -15.2138193715,
          -6.8286723351,
          -1.6041709229,
          -18.5747490602,
          -10.9082076159,
          -16.895018587,
          -13.6321412498,
          -13.3105576339,
          -4.6777515658999995,
          -1.7681449818000001,
          -8.4950393252,
          -11.5233642642,
          -14.6268898468,
          -6.2804251892,
          -11.9217788974,
          -6.1582428584,
          -3.2851023292,
          -11.375427675100001,
          -9.1700908761
         ],
         "yaxis": "y"
        },
        {
         "alignmentgroup": "True",
         "hovertemplate": "line_item_product_code=AmazonEFS<br>line_item_usage_start_date=%{x}<br>line_item_unblended_cost=%{y}<extra></extra>",
         "legendgroup": "AmazonEFS",
         "marker": {
          "color": "#19d3f3",
          "pattern": {
           "shape": ""
          }
         },
         "name": "AmazonEFS",
         "offsetgroup": "AmazonEFS",
         "orientation": "v",
         "showlegend": true,
         "textposition": "auto",
         "type": "bar",
         "x": [
          "2023-01-01",
          "2023-01-02",
          "2023-01-03",
          "2023-01-04",
          "2023-01-05",
          "2023-01-06",
          "2023-01-07",
          "2023-01-08",
          "2023-01-09",
          "2023-01-10",
          "2023-01-11",
          "2023-01-12",
          "2023-01-13",
          "2023-01-14",
          "2023-01-15",
          "2023-01-16",
          "2023-01-17",
          "2023-01-18",
          "2023-01-19",
          "2023-01-20",
          "2023-01-21",
          "2023-01-22",
          "2023-01-23",
          "2023-01-24",
          "2023-01-25",
          "2023-01-26",
          "2023-01-27",
          "2023-01-28",
          "2023-01-29",
          "2023-01-30",
          "2023-01-31"
         ],
         "xaxis": "x",
         "y": [
          -0.0108920691,
          -0.0069187531,
          -0.0093585694,
          -0.008640366,
          -0.009670904,
          -0.0108021073,
          -0.015604149599999999,
          -0.009851199,
          -0.0106239323,
          -0.0145573543,
          -0.0125962035,
          -0.011766841,
          -0.0127153004,
          -0.014977070700000001,
          -0.0124469091,
          -0.0140835008,
          -0.0193096942,
          -0.0176419705,
          -0.0203269196,
          -0.0159729118,
          -0.0173903361,
          -0.0261442986,
          -0.018442851399999998,
          -0.023703792,
          -0.012221131500000001,
          -0.009353418,
          -0.0132901294,
          -0.0111587378,
          -0.0134692643,
          -0.013280964400000001,
          -0.0145030734
         ],
         "yaxis": "y"
        },
        {
         "alignmentgroup": "True",
         "hovertemplate": "line_item_product_code=AmazonEKS<br>line_item_usage_start_date=%{x}<br>line_item_unblended_cost=%{y}<extra></extra>",
         "legendgroup": "AmazonEKS",
         "marker": {
          "color": "#FF6692",
          "pattern": {
           "shape": ""
          }
         },
         "name": "AmazonEKS",
         "offsetgroup": "AmazonEKS",
         "orientation": "v",
         "showlegend": true,
         "textposition": "auto",
         "type": "bar",
         "x": [
          "2023-01-01",
          "2023-01-02",
          "2023-01-03",
          "2023-01-04",
          "2023-01-05",
          "2023-01-06",
          "2023-01-07",
          "2023-01-08",
          "2023-01-09",
          "2023-01-10",
          "2023-01-11",
          "2023-01-12",
          "2023-01-13",
          "2023-01-14",
          "2023-01-15",
          "2023-01-16",
          "2023-01-17",
          "2023-01-18",
          "2023-01-19",
          "2023-01-20",
          "2023-01-21",
          "2023-01-22",
          "2023-01-23",
          "2023-01-24",
          "2023-01-25",
          "2023-01-26",
          "2023-01-27",
          "2023-01-28",
          "2023-01-29",
          "2023-01-30",
          "2023-01-31"
         ],
         "xaxis": "x",
         "y": [
          -9.4635,
          -10.4523820875,
          -9.6939736875,
          -8.4373546462,
          -7.9207752352,
          -9.6977925,
          -7.473089025,
          -8.9775,
          -9.533286225,
          -7.184992275,
          -7.6010838750000005,
          -7.9668981,
          -8.113597875,
          -5.5296972,
          -8.7075,
          -10.37979765,
          -11.5824853066,
          -7.6727925,
          -8.2161840712,
          -8.00669205,
          -7.8921972,
          -9.1935,
          -9.207097875,
          -8.1298944,
          -10.591589025,
          -9.3285,
          -7.9138944,
          -7.3521972,
          -7.4655,
          -9.490597875,
          -8.5215375824
         ],
         "yaxis": "y"
        },
        {
         "alignmentgroup": "True",
         "hovertemplate": "line_item_product_code=AmazonES<br>line_item_usage_start_date=%{x}<br>line_item_unblended_cost=%{y}<extra></extra>",
         "legendgroup": "AmazonES",
         "marker": {
          "color": "#B6E880",
          "pattern": {
           "shape": ""
          }
         },
         "name": "AmazonES",
         "offsetgroup": "AmazonES",
         "orientation": "v",
         "showlegend": true,
         "textposition": "auto",
         "type": "bar",
         "x": [
          "2023-01-01",
          "2023-01-02",
          "2023-01-03",
          "2023-01-04",
          "2023-01-05",
          "2023-01-06",
          "2023-01-07",
          "2023-01-08",
          "2023-01-09",
          "2023-01-10",
          "2023-01-11",
          "2023-01-12",
          "2023-01-13",
          "2023-01-14",
          "2023-01-15",
          "2023-01-16",
          "2023-01-17",
          "2023-01-18",
          "2023-01-19",
          "2023-01-20",
          "2023-01-21",
          "2023-01-22",
          "2023-01-23",
          "2023-01-24",
          "2023-01-25",
          "2023-01-26",
          "2023-01-27",
          "2023-01-28",
          "2023-01-29",
          "2023-01-30",
          "2023-01-31"
         ],
         "xaxis": "x",
         "y": [
          -0.037717788700000004,
          -0.0474970342,
          -0.0566170868,
          -0.049157477399999996,
          -0.0577965417,
          -0.0546097053,
          -0.0399152381,
          -0.034868149200000004,
          -0.0471149374,
          -0.0534325071,
          -0.0337462778,
          -0.0799145487,
          -0.0609892506,
          -0.0497742601,
          -0.0285057158,
          -0.0428406734,
          -0.0502373307,
          -0.0750231279,
          -0.0827894354,
          -0.0818831498,
          -0.0344324556,
          -0.0262988776,
          -0.0529020806,
          -0.052828545500000004,
          -0.0353590335,
          -0.022390693899999998,
          -0.0460246949,
          -0.0434773546,
          -0.039347448300000004,
          -0.049143788,
          -0.0440292031
         ],
         "yaxis": "y"
        },
        {
         "alignmentgroup": "True",
         "hovertemplate": "line_item_product_code=AmazonElastiCache<br>line_item_usage_start_date=%{x}<br>line_item_unblended_cost=%{y}<extra></extra>",
         "legendgroup": "AmazonElastiCache",
         "marker": {
          "color": "#FF97FF",
          "pattern": {
           "shape": ""
          }
         },
         "name": "AmazonElastiCache",
         "offsetgroup": "AmazonElastiCache",
         "orientation": "v",
         "showlegend": true,
         "textposition": "auto",
         "type": "bar",
         "x": [
          "2023-01-01",
          "2023-01-02",
          "2023-01-03",
          "2023-01-04",
          "2023-01-05",
          "2023-01-06",
          "2023-01-07",
          "2023-01-08",
          "2023-01-09",
          "2023-01-10",
          "2023-01-11",
          "2023-01-12",
          "2023-01-13",
          "2023-01-14",
          "2023-01-15",
          "2023-01-16",
          "2023-01-17",
          "2023-01-18",
          "2023-01-19",
          "2023-01-20",
          "2023-01-21",
          "2023-01-22",
          "2023-01-23",
          "2023-01-24",
          "2023-01-25",
          "2023-01-26",
          "2023-01-27",
          "2023-01-28",
          "2023-01-29",
          "2023-01-30",
          "2023-01-31"
         ],
         "xaxis": "x",
         "y": [
          -434.28017709590006,
          -20.9708851431,
          -24.1671658535,
          -22.3039322808,
          -22.4973820911,
          -18.3466773612,
          -19.8425610595,
          -22.5093122651,
          -23.0154758052,
          -21.6243390573,
          -22.8658211295,
          -20.6275954256,
          -19.5172167067,
          -19.2366334177,
          -19.3340231963,
          -20.9366116932,
          -20.1748601934,
          -19.7243977214,
          -23.5044281769,
          -22.9736049319,
          -18.8881113804,
          -22.272026537,
          -21.7445375931,
          -19.9305323998,
          -20.7030954804,
          -20.8324564451,
          -19.5128345669,
          -24.4590921004,
          -22.7028075298,
          -20.3333114228,
          -21.0030841502
         ],
         "yaxis": "y"
        },
        {
         "alignmentgroup": "True",
         "hovertemplate": "line_item_product_code=AmazonGuardDuty<br>line_item_usage_start_date=%{x}<br>line_item_unblended_cost=%{y}<extra></extra>",
         "legendgroup": "AmazonGuardDuty",
         "marker": {
          "color": "#FECB52",
          "pattern": {
           "shape": ""
          }
         },
         "name": "AmazonGuardDuty",
         "offsetgroup": "AmazonGuardDuty",
         "orientation": "v",
         "showlegend": true,
         "textposition": "auto",
         "type": "bar",
         "x": [
          "2023-01-01",
          "2023-01-02",
          "2023-01-03",
          "2023-01-04",
          "2023-01-05",
          "2023-01-06",
          "2023-01-07",
          "2023-01-08",
          "2023-01-09",
          "2023-01-10",
          "2023-01-11",
          "2023-01-12",
          "2023-01-13",
          "2023-01-14",
          "2023-01-15",
          "2023-01-16",
          "2023-01-17",
          "2023-01-18",
          "2023-01-19",
          "2023-01-20",
          "2023-01-21",
          "2023-01-22",
          "2023-01-23",
          "2023-01-24",
          "2023-01-25",
          "2023-01-26",
          "2023-01-27",
          "2023-01-28",
          "2023-01-29",
          "2023-01-30",
          "2023-01-31"
         ],
         "xaxis": "x",
         "y": [
          -7.6007056958,
          -11.761657529499999,
          -10.5728434755,
          -12.1992619845,
          -13.8999378222,
          -8.9050774683,
          -9.4932368096,
          -7.9600551005,
          -7.6095914186,
          -9.3600413163,
          -9.5925692731,
          -7.9785577209000005,
          -10.9208684605,
          -8.487255835800001,
          -7.0117629317,
          -7.7280578033,
          -8.8427193761,
          -8.6872342025,
          -11.4758235278,
          -9.6385512931,
          -9.74834861,
          -8.0054876354,
          -9.346917808,
          -9.1824683142,
          -9.1596027715,
          -8.2645332428,
          -11.9677281893,
          -9.967815505299999,
          -10.7261460193,
          -10.567669325,
          -10.6786927777
         ],
         "yaxis": "y"
        },
        {
         "alignmentgroup": "True",
         "hovertemplate": "line_item_product_code=AmazonInspectorV2<br>line_item_usage_start_date=%{x}<br>line_item_unblended_cost=%{y}<extra></extra>",
         "legendgroup": "AmazonInspectorV2",
         "marker": {
          "color": "#636efa",
          "pattern": {
           "shape": ""
          }
         },
         "name": "AmazonInspectorV2",
         "offsetgroup": "AmazonInspectorV2",
         "orientation": "v",
         "showlegend": true,
         "textposition": "auto",
         "type": "bar",
         "x": [
          "2023-01-01",
          "2023-01-02",
          "2023-01-03",
          "2023-01-04",
          "2023-01-05",
          "2023-01-06",
          "2023-01-07",
          "2023-01-08",
          "2023-01-09",
          "2023-01-10",
          "2023-01-11",
          "2023-01-12",
          "2023-01-13",
          "2023-01-14",
          "2023-01-15",
          "2023-01-16",
          "2023-01-17",
          "2023-01-18",
          "2023-01-19",
          "2023-01-20",
          "2023-01-21",
          "2023-01-22",
          "2023-01-23",
          "2023-01-24",
          "2023-01-25",
          "2023-01-26",
          "2023-01-27",
          "2023-01-28",
          "2023-01-29",
          "2023-01-30",
          "2023-01-31"
         ],
         "xaxis": "x",
         "y": [
          -0.0028187999999999998,
          -0.0016443,
          -0.0025839,
          -0.0018792,
          -0.0025839,
          -0.0011745,
          -0.0025839,
          -0.0021141,
          -0.0027594,
          -0.0014093999999999999,
          -0.0021141,
          -0.0014093999999999999,
          -0.0018792,
          -0.0028187999999999998,
          -0.0016443,
          -0.0018792,
          -0.0021141,
          -0.1058292,
          -0.0028187999999999998,
          -0.0021141,
          -0.0027594,
          -0.002349,
          -0.0018792,
          -0.0025839,
          -0.0018792,
          -0.0021141,
          -0.0030537,
          -0.0021141,
          -0.0025839,
          -0.014264099999999998,
          -0.0014093999999999999
         ],
         "yaxis": "y"
        },
        {
         "alignmentgroup": "True",
         "hovertemplate": "line_item_product_code=AmazonKinesis<br>line_item_usage_start_date=%{x}<br>line_item_unblended_cost=%{y}<extra></extra>",
         "legendgroup": "AmazonKinesis",
         "marker": {
          "color": "#EF553B",
          "pattern": {
           "shape": ""
          }
         },
         "name": "AmazonKinesis",
         "offsetgroup": "AmazonKinesis",
         "orientation": "v",
         "showlegend": true,
         "textposition": "auto",
         "type": "bar",
         "x": [
          "2023-01-01",
          "2023-01-02",
          "2023-01-03",
          "2023-01-04",
          "2023-01-05",
          "2023-01-06",
          "2023-01-07",
          "2023-01-08",
          "2023-01-09",
          "2023-01-10",
          "2023-01-11",
          "2023-01-12",
          "2023-01-13",
          "2023-01-14",
          "2023-01-15",
          "2023-01-16",
          "2023-01-17",
          "2023-01-18",
          "2023-01-19",
          "2023-01-20",
          "2023-01-21",
          "2023-01-22",
          "2023-01-23",
          "2023-01-24",
          "2023-01-25",
          "2023-01-26",
          "2023-01-27",
          "2023-01-28",
          "2023-01-29",
          "2023-01-30",
          "2023-01-31"
         ],
         "xaxis": "x",
         "y": [
          -4.331522334,
          -4.6054799806,
          -5.0645031786,
          -4.6597813078,
          -4.5979651950000004,
          -5.1674148657,
          -4.9134580822,
          -4.567605401,
          -4.9646909034,
          -4.1660437227,
          -4.9767722222,
          -4.6875913243,
          -5.1523216498,
          -5.4492461027,
          -4.9501956346,
          -5.3246256519,
          -4.8770868486,
          -4.8915848324,
          -3.9178454094,
          -5.6648079135,
          -4.9464442339,
          -3.6962611423,
          -5.1353333735,
          -4.6558512419,
          -4.4330219593,
          -4.8186338979,
          -4.3930395381,
          -4.8706424087,
          -4.1478438938,
          -4.882441462,
          -4.0247973531
         ],
         "yaxis": "y"
        },
        {
         "alignmentgroup": "True",
         "hovertemplate": "line_item_product_code=AmazonKinesisFirehose<br>line_item_usage_start_date=%{x}<br>line_item_unblended_cost=%{y}<extra></extra>",
         "legendgroup": "AmazonKinesisFirehose",
         "marker": {
          "color": "#00cc96",
          "pattern": {
           "shape": ""
          }
         },
         "name": "AmazonKinesisFirehose",
         "offsetgroup": "AmazonKinesisFirehose",
         "orientation": "v",
         "showlegend": true,
         "textposition": "auto",
         "type": "bar",
         "x": [
          "2023-01-01",
          "2023-01-02",
          "2023-01-03",
          "2023-01-04",
          "2023-01-05",
          "2023-01-06",
          "2023-01-07",
          "2023-01-08",
          "2023-01-09",
          "2023-01-10",
          "2023-01-11",
          "2023-01-12",
          "2023-01-13",
          "2023-01-14",
          "2023-01-15",
          "2023-01-16",
          "2023-01-17",
          "2023-01-18",
          "2023-01-19",
          "2023-01-20",
          "2023-01-21",
          "2023-01-22",
          "2023-01-23",
          "2023-01-24",
          "2023-01-25",
          "2023-01-26",
          "2023-01-27",
          "2023-01-28",
          "2023-01-29",
          "2023-01-30",
          "2023-01-31"
         ],
         "xaxis": "x",
         "y": [
          -0.0304404396,
          -0.0062641748,
          -0.0059122392,
          -0.0082707032,
          -0.0083209101,
          -0.012518507,
          -0.014999532,
          -0.011360927600000001,
          -0.0232065995,
          -0.0529755387,
          -0.0936337533,
          -0.0931396718,
          -0.0804998745,
          -0.0695971689,
          -0.0417487027,
          -0.1638403979,
          -0.2339081053,
          -0.2327479864,
          -0.2781212257,
          -0.16972977720000001,
          -0.1563793632,
          -0.091861551,
          -0.35925923000000004,
          -0.4474341206,
          -0.4302505161,
          -0.0032338985,
          -0.002375967,
          -0.0031339676,
          -0.0019112354,
          -0.0019095387,
          -0.0036179429
         ],
         "yaxis": "y"
        },
        {
         "alignmentgroup": "True",
         "hovertemplate": "line_item_product_code=AmazonMSK<br>line_item_usage_start_date=%{x}<br>line_item_unblended_cost=%{y}<extra></extra>",
         "legendgroup": "AmazonMSK",
         "marker": {
          "color": "#ab63fa",
          "pattern": {
           "shape": ""
          }
         },
         "name": "AmazonMSK",
         "offsetgroup": "AmazonMSK",
         "orientation": "v",
         "showlegend": true,
         "textposition": "auto",
         "type": "bar",
         "x": [
          "2023-01-01",
          "2023-01-02",
          "2023-01-03",
          "2023-01-04",
          "2023-01-05",
          "2023-01-06",
          "2023-01-07",
          "2023-01-08",
          "2023-01-09",
          "2023-01-10",
          "2023-01-11",
          "2023-01-12",
          "2023-01-13",
          "2023-01-14",
          "2023-01-15",
          "2023-01-16",
          "2023-01-17",
          "2023-01-18",
          "2023-01-19",
          "2023-01-20",
          "2023-01-21",
          "2023-01-22",
          "2023-01-23",
          "2023-01-24",
          "2023-01-25",
          "2023-01-26",
          "2023-01-27",
          "2023-01-28",
          "2023-01-29",
          "2023-01-30",
          "2023-01-31"
         ],
         "xaxis": "x",
         "y": [
          -10.5226647102,
          -8.3699206698,
          -10.9970036375,
          -8.532087622,
          -10.747350711700001,
          -6.8525003037,
          -7.2077157585,
          -8.7693840003,
          -6.7296785813,
          -5.7010788006,
          -9.2758610399,
          -11.1688962803,
          -8.2010668767,
          -9.6331932589,
          -10.0056961457,
          -10.3663396308,
          -11.7893325489,
          -9.8765545952,
          -15.4173376837,
          -10.3754428048,
          -9.5052811943,
          -9.8837010006,
          -9.613451998,
          -9.968779741,
          -12.9346577163,
          -12.015256065300001,
          -10.1256516713,
          -7.9356740813,
          -13.0423813555,
          -9.0955588508,
          -15.4129407732
         ],
         "yaxis": "y"
        },
        {
         "alignmentgroup": "True",
         "hovertemplate": "line_item_product_code=AmazonMWAA<br>line_item_usage_start_date=%{x}<br>line_item_unblended_cost=%{y}<extra></extra>",
         "legendgroup": "AmazonMWAA",
         "marker": {
          "color": "#FFA15A",
          "pattern": {
           "shape": ""
          }
         },
         "name": "AmazonMWAA",
         "offsetgroup": "AmazonMWAA",
         "orientation": "v",
         "showlegend": true,
         "textposition": "auto",
         "type": "bar",
         "x": [
          "2023-01-01",
          "2023-01-02",
          "2023-01-03",
          "2023-01-04",
          "2023-01-05",
          "2023-01-06",
          "2023-01-07",
          "2023-01-08",
          "2023-01-09",
          "2023-01-10",
          "2023-01-11",
          "2023-01-12",
          "2023-01-13",
          "2023-01-14",
          "2023-01-15",
          "2023-01-16",
          "2023-01-17",
          "2023-01-18",
          "2023-01-19",
          "2023-01-20",
          "2023-01-21",
          "2023-01-22",
          "2023-01-23",
          "2023-01-24",
          "2023-01-25",
          "2023-01-26",
          "2023-01-27",
          "2023-01-28",
          "2023-01-29",
          "2023-01-30",
          "2023-01-31"
         ],
         "xaxis": "x",
         "y": [
          -5.8928314192,
          -7.5925772366,
          -6.1601938988,
          -4.3846622565999995,
          -7.8590808302,
          -5.4719064049999995,
          -4.8330668296,
          -4.1255324388,
          -5.841111076,
          -7.0067829295,
          -7.3104645316,
          -6.0666058894,
          -6.2527436392,
          -6.429410796,
          -6.1632888046,
          -6.6525820911,
          -6.60525037,
          -7.0433075755,
          -5.1895353326,
          -5.0100740282,
          -4.1120032591,
          -4.9833624611,
          -5.8567695291,
          -5.8403065878,
          -7.449980239599999,
          -4.3129349811,
          -4.5518254662999995,
          -4.8882163987,
          -4.261575555,
          -6.213525023,
          -5.6247408744
         ],
         "yaxis": "y"
        },
        {
         "alignmentgroup": "True",
         "hovertemplate": "line_item_product_code=AmazonMemoryDB<br>line_item_usage_start_date=%{x}<br>line_item_unblended_cost=%{y}<extra></extra>",
         "legendgroup": "AmazonMemoryDB",
         "marker": {
          "color": "#19d3f3",
          "pattern": {
           "shape": ""
          }
         },
         "name": "AmazonMemoryDB",
         "offsetgroup": "AmazonMemoryDB",
         "orientation": "v",
         "showlegend": true,
         "textposition": "auto",
         "type": "bar",
         "x": [
          "2023-01-01",
          "2023-01-02",
          "2023-01-03",
          "2023-01-04",
          "2023-01-05",
          "2023-01-06",
          "2023-01-07",
          "2023-01-08",
          "2023-01-09",
          "2023-01-10",
          "2023-01-11",
          "2023-01-12",
          "2023-01-13",
          "2023-01-14",
          "2023-01-15",
          "2023-01-16",
          "2023-01-17",
          "2023-01-18",
          "2023-01-19",
          "2023-01-20",
          "2023-01-21",
          "2023-01-22",
          "2023-01-23",
          "2023-01-24",
          "2023-01-25",
          "2023-01-26",
          "2023-01-27",
          "2023-01-28",
          "2023-01-29",
          "2023-01-30",
          "2023-01-31"
         ],
         "xaxis": "x",
         "y": [
          -0.35936999999999997,
          -0.39770999999999995,
          -0.44982,
          -0.38393999999999995,
          -0.5318999999999999,
          -0.46358999999999995,
          -0.43605,
          -0.51003,
          -0.42228,
          -0.42228,
          -0.42794999999999994,
          -0.57051,
          -0.30995999999999996,
          -0.52947,
          -0.6471899999999999,
          -0.61668,
          -0.6723,
          -0.59076,
          -0.58617,
          -0.70875,
          -0.45738,
          -0.6469199999999999,
          -0.47087999999999997,
          -0.6555599999999999,
          -0.81567,
          -0.66447,
          -0.63585,
          -0.61236,
          -0.70362,
          -0.61695,
          -0.49058999999999997
         ],
         "yaxis": "y"
        },
        {
         "alignmentgroup": "True",
         "hovertemplate": "line_item_product_code=AmazonPinpoint<br>line_item_usage_start_date=%{x}<br>line_item_unblended_cost=%{y}<extra></extra>",
         "legendgroup": "AmazonPinpoint",
         "marker": {
          "color": "#FF6692",
          "pattern": {
           "shape": ""
          }
         },
         "name": "AmazonPinpoint",
         "offsetgroup": "AmazonPinpoint",
         "orientation": "v",
         "showlegend": true,
         "textposition": "auto",
         "type": "bar",
         "x": [
          "2023-01-01",
          "2023-01-02",
          "2023-01-03",
          "2023-01-04",
          "2023-01-05",
          "2023-01-06",
          "2023-01-07",
          "2023-01-08",
          "2023-01-09",
          "2023-01-10",
          "2023-01-11",
          "2023-01-12",
          "2023-01-13",
          "2023-01-14",
          "2023-01-15",
          "2023-01-16",
          "2023-01-17",
          "2023-01-18",
          "2023-01-19",
          "2023-01-20",
          "2023-01-21",
          "2023-01-22",
          "2023-01-23",
          "2023-01-24",
          "2023-01-25",
          "2023-01-26",
          "2023-01-27",
          "2023-01-28",
          "2023-01-29",
          "2023-01-30",
          "2023-01-31"
         ],
         "xaxis": "x",
         "y": [
          -0.0023588708,
          -0.0014516128,
          -0.001814516,
          -0.0023588708,
          -0.001814516,
          -0.0012701612,
          -0.0014516128,
          -0.001814516,
          -0.000907258,
          -0.0016330644,
          -0.0021774192,
          -0.000907258,
          -0.0014516128,
          -0.0019959675999999997,
          -0.0014516128,
          -0.0021774192,
          -0.0014516128,
          -0.0016330644,
          -0.0014516128,
          -0.0019959675999999997,
          -0.0016330644,
          -0.0014516128,
          -0.001814516,
          -0.001814516,
          -0.0010887096,
          -0.0023588708,
          -0.0019959675999999997,
          -0.0014516128,
          -0.0014516128,
          -0.001814516,
          -0.001814516
         ],
         "yaxis": "y"
        },
        {
         "alignmentgroup": "True",
         "hovertemplate": "line_item_product_code=AmazonQuickSight<br>line_item_usage_start_date=%{x}<br>line_item_unblended_cost=%{y}<extra></extra>",
         "legendgroup": "AmazonQuickSight",
         "marker": {
          "color": "#B6E880",
          "pattern": {
           "shape": ""
          }
         },
         "name": "AmazonQuickSight",
         "offsetgroup": "AmazonQuickSight",
         "orientation": "v",
         "showlegend": true,
         "textposition": "auto",
         "type": "bar",
         "x": [
          "2023-01-01",
          "2023-01-02",
          "2023-01-03",
          "2023-01-04",
          "2023-01-05",
          "2023-01-06",
          "2023-01-07",
          "2023-01-08",
          "2023-01-09",
          "2023-01-10",
          "2023-01-11",
          "2023-01-12",
          "2023-01-13",
          "2023-01-14",
          "2023-01-15",
          "2023-01-16",
          "2023-01-17",
          "2023-01-18",
          "2023-01-19",
          "2023-01-20",
          "2023-01-21",
          "2023-01-22",
          "2023-01-23",
          "2023-01-24",
          "2023-01-25",
          "2023-01-26",
          "2023-01-27",
          "2023-01-28",
          "2023-01-29",
          "2023-01-30",
          "2023-01-31"
         ],
         "xaxis": "x",
         "y": [
          -0.5408349811,
          -0.5444792111,
          -0.5050247247999999,
          -0.5835194689,
          -0.4016082185,
          -0.3648586088,
          -0.5008828689,
          -0.3816528425,
          -0.4799350443,
          -0.4052144954,
          -0.6132462968,
          -0.6809809989,
          -0.5675705419,
          -0.6077741845,
          -0.5756110809,
          -0.8737850306,
          -0.7468174529,
          -0.6459606667,
          -0.7409027605,
          -0.5867717807,
          -0.6696285662,
          -0.7367912130000001,
          -0.6101508788,
          -0.7879041336,
          -0.6448530172,
          -0.4607343868,
          -0.6876133534,
          -0.7733551387,
          -0.7320165634,
          -0.6811135022,
          -0.7258062273
         ],
         "yaxis": "y"
        },
        {
         "alignmentgroup": "True",
         "hovertemplate": "line_item_product_code=AmazonRDS<br>line_item_usage_start_date=%{x}<br>line_item_unblended_cost=%{y}<extra></extra>",
         "legendgroup": "AmazonRDS",
         "marker": {
          "color": "#FF97FF",
          "pattern": {
           "shape": ""
          }
         },
         "name": "AmazonRDS",
         "offsetgroup": "AmazonRDS",
         "orientation": "v",
         "showlegend": true,
         "textposition": "auto",
         "type": "bar",
         "x": [
          "2023-01-01",
          "2023-01-02",
          "2023-01-03",
          "2023-01-04",
          "2023-01-05",
          "2023-01-06",
          "2023-01-07",
          "2023-01-08",
          "2023-01-09",
          "2023-01-10",
          "2023-01-11",
          "2023-01-12",
          "2023-01-13",
          "2023-01-14",
          "2023-01-15",
          "2023-01-16",
          "2023-01-17",
          "2023-01-18",
          "2023-01-19",
          "2023-01-20",
          "2023-01-21",
          "2023-01-22",
          "2023-01-23",
          "2023-01-24",
          "2023-01-25",
          "2023-01-26",
          "2023-01-27",
          "2023-01-28",
          "2023-01-29",
          "2023-01-30",
          "2023-01-31"
         ],
         "xaxis": "x",
         "y": [
          -3704.14876888,
          -148.0098134383,
          -119.7405274441,
          -145.8745382649,
          -184.0641024135,
          -162.7682340564,
          -123.62233516719999,
          -105.0581193115,
          -167.0864762665,
          -142.3843251443,
          -168.8253769925,
          -149.0432271561,
          -193.9935821474,
          -142.0837825412,
          -91.8358431164,
          -161.4345317314,
          -154.5740137919,
          -164.6263147754,
          -161.7751152688,
          -192.6464858077,
          -148.8118008883,
          -106.4676237924,
          -139.2990781252,
          -157.9707127343,
          -133.9237461912,
          -120.5554322892,
          -190.6763819916,
          -131.3612271968,
          -132.1178184934,
          -164.7908816757,
          -176.03049551269999
         ],
         "yaxis": "y"
        },
        {
         "alignmentgroup": "True",
         "hovertemplate": "line_item_product_code=AmazonRedshift<br>line_item_usage_start_date=%{x}<br>line_item_unblended_cost=%{y}<extra></extra>",
         "legendgroup": "AmazonRedshift",
         "marker": {
          "color": "#FECB52",
          "pattern": {
           "shape": ""
          }
         },
         "name": "AmazonRedshift",
         "offsetgroup": "AmazonRedshift",
         "orientation": "v",
         "showlegend": true,
         "textposition": "auto",
         "type": "bar",
         "x": [
          "2023-01-01",
          "2023-01-02",
          "2023-01-03",
          "2023-01-04",
          "2023-01-05",
          "2023-01-06",
          "2023-01-07",
          "2023-01-08",
          "2023-01-09",
          "2023-01-10",
          "2023-01-11",
          "2023-01-12",
          "2023-01-13",
          "2023-01-14",
          "2023-01-15",
          "2023-01-16",
          "2023-01-17",
          "2023-01-18",
          "2023-01-19",
          "2023-01-20",
          "2023-01-21",
          "2023-01-22",
          "2023-01-23",
          "2023-01-24",
          "2023-01-25",
          "2023-01-26",
          "2023-01-27",
          "2023-01-28",
          "2023-01-29",
          "2023-01-30",
          "2023-01-31"
         ],
         "xaxis": "x",
         "y": [
          -201.38542353890003,
          -10.3471472343,
          -5.4901399876,
          -7.2686235001,
          -6.060429566500001,
          -9.6573289896,
          -9.2670807061,
          -8.8191442497,
          -9.241778535200002,
          -8.1055095196,
          -8.5714281674,
          -7.6303568939,
          -7.583510099100001,
          -10.185927989400001,
          -5.6129864724,
          -7.6048518279,
          -8.0695852616,
          -9.8041203617,
          -7.032869987800001,
          -9.793453124300001,
          -7.2489096544,
          -6.6248942473,
          -7.308362536700001,
          -8.9697600644,
          -9.2221467082,
          -4.4375341891,
          -5.8928263749,
          -7.7198761758000005,
          -8.6769235759,
          -7.6918436649,
          -9.5983067028
         ],
         "yaxis": "y"
        },
        {
         "alignmentgroup": "True",
         "hovertemplate": "line_item_product_code=AmazonRoute53<br>line_item_usage_start_date=%{x}<br>line_item_unblended_cost=%{y}<extra></extra>",
         "legendgroup": "AmazonRoute53",
         "marker": {
          "color": "#636efa",
          "pattern": {
           "shape": ""
          }
         },
         "name": "AmazonRoute53",
         "offsetgroup": "AmazonRoute53",
         "orientation": "v",
         "showlegend": true,
         "textposition": "auto",
         "type": "bar",
         "x": [
          "2023-01-01",
          "2023-01-02",
          "2023-01-03",
          "2023-01-04",
          "2023-01-05",
          "2023-01-06",
          "2023-01-07",
          "2023-01-08",
          "2023-01-09",
          "2023-01-10",
          "2023-01-11",
          "2023-01-12",
          "2023-01-13",
          "2023-01-14",
          "2023-01-15",
          "2023-01-16",
          "2023-01-17",
          "2023-01-18",
          "2023-01-19",
          "2023-01-20",
          "2023-01-21",
          "2023-01-22",
          "2023-01-23",
          "2023-01-24",
          "2023-01-25",
          "2023-01-26",
          "2023-01-27",
          "2023-01-28",
          "2023-01-29",
          "2023-01-30",
          "2023-01-31"
         ],
         "xaxis": "x",
         "y": [
          -2.763688572,
          -1.208748852,
          -1.8848466720000001,
          -1.365418539,
          -1.801417536,
          -1.856828232,
          -1.490105025,
          -0.692567037,
          -1.398028491,
          -1.482968601,
          -2.09425419,
          -1.1966200740000001,
          -1.108654047,
          -1.207351008,
          -0.784246887,
          -1.246299426,
          -0.744052473,
          -1.177750314,
          -0.554581134,
          -0.7989643710000001,
          -0.45366345,
          -0.567934335,
          -1.130745582,
          -0.830703465,
          -0.849444921,
          -0.30307983299999997,
          -0.78611256,
          -1.09627992,
          -0.552349152,
          -0.47550404700000004,
          -0.295022223
         ],
         "yaxis": "y"
        },
        {
         "alignmentgroup": "True",
         "hovertemplate": "line_item_product_code=AmazonS3<br>line_item_usage_start_date=%{x}<br>line_item_unblended_cost=%{y}<extra></extra>",
         "legendgroup": "AmazonS3",
         "marker": {
          "color": "#EF553B",
          "pattern": {
           "shape": ""
          }
         },
         "name": "AmazonS3",
         "offsetgroup": "AmazonS3",
         "orientation": "v",
         "showlegend": true,
         "textposition": "auto",
         "type": "bar",
         "x": [
          "2023-01-01",
          "2023-01-02",
          "2023-01-03",
          "2023-01-04",
          "2023-01-05",
          "2023-01-06",
          "2023-01-07",
          "2023-01-08",
          "2023-01-09",
          "2023-01-10",
          "2023-01-11",
          "2023-01-12",
          "2023-01-13",
          "2023-01-14",
          "2023-01-15",
          "2023-01-16",
          "2023-01-17",
          "2023-01-18",
          "2023-01-19",
          "2023-01-20",
          "2023-01-21",
          "2023-01-22",
          "2023-01-23",
          "2023-01-24",
          "2023-01-25",
          "2023-01-26",
          "2023-01-27",
          "2023-01-28",
          "2023-01-29",
          "2023-01-30",
          "2023-01-31"
         ],
         "xaxis": "x",
         "y": [
          -13.0862879126,
          -18.1776976727,
          -26.2616481092,
          -40.3070463849,
          -91.32966691690001,
          -28.0175009707,
          -29.5475856218,
          -19.955306843,
          -34.3031573942,
          -103.3143582847,
          -109.7403216857,
          -49.8062912172,
          -46.3917403415,
          -98.83862995919999,
          -30.9230965067,
          -29.4221938964,
          -30.7472956582,
          -35.4664152875,
          -25.307413929,
          -90.8966273872,
          -29.7321949067,
          -33.4455499903,
          -89.961103709,
          -27.7900525497,
          -95.1473629636,
          -33.4630917734,
          -29.8450238849,
          -35.3425279094,
          -90.89352999329999,
          -43.5362446934,
          -102.7442517219
         ],
         "yaxis": "y"
        },
        {
         "alignmentgroup": "True",
         "hovertemplate": "line_item_product_code=AmazonSES<br>line_item_usage_start_date=%{x}<br>line_item_unblended_cost=%{y}<extra></extra>",
         "legendgroup": "AmazonSES",
         "marker": {
          "color": "#00cc96",
          "pattern": {
           "shape": ""
          }
         },
         "name": "AmazonSES",
         "offsetgroup": "AmazonSES",
         "orientation": "v",
         "showlegend": true,
         "textposition": "auto",
         "type": "bar",
         "x": [
          "2023-01-01",
          "2023-01-02",
          "2023-01-03",
          "2023-01-04",
          "2023-01-05",
          "2023-01-06",
          "2023-01-07",
          "2023-01-08",
          "2023-01-09",
          "2023-01-10",
          "2023-01-11",
          "2023-01-12",
          "2023-01-13",
          "2023-01-14",
          "2023-01-15",
          "2023-01-16",
          "2023-01-17",
          "2023-01-18",
          "2023-01-19",
          "2023-01-20",
          "2023-01-21",
          "2023-01-22",
          "2023-01-23",
          "2023-01-24",
          "2023-01-25",
          "2023-01-26",
          "2023-01-27",
          "2023-01-28",
          "2023-01-29",
          "2023-01-30",
          "2023-01-31"
         ],
         "xaxis": "x",
         "y": [
          -0.000001209,
          -0.0000411179,
          -0.0000540922,
          -0.0000380185,
          -0.0000376954,
          -0.0000306681,
          -0.0000147174,
          -0.0000022046,
          -0.0001343955,
          -0.0000486715,
          -0.0000682045,
          -0.0000604305,
          -0.0000659393,
          -0.0000103866,
          -0.0000043494,
          -0.0000974434,
          -0.0000746729,
          -0.00014778319999999998,
          -0.000021042,
          -0.0000120492,
          -0.0000029425,
          -0.000003059,
          -0.0000738201,
          -0.0000508549,
          -0.000028507699999999998,
          -0.0000012304,
          -0.0000485493,
          -0.0000020088,
          -0.0000078896,
          -0.0000257407,
          -0.000036381300000000004
         ],
         "yaxis": "y"
        },
        {
         "alignmentgroup": "True",
         "hovertemplate": "line_item_product_code=AmazonSNS<br>line_item_usage_start_date=%{x}<br>line_item_unblended_cost=%{y}<extra></extra>",
         "legendgroup": "AmazonSNS",
         "marker": {
          "color": "#ab63fa",
          "pattern": {
           "shape": ""
          }
         },
         "name": "AmazonSNS",
         "offsetgroup": "AmazonSNS",
         "orientation": "v",
         "showlegend": true,
         "textposition": "auto",
         "type": "bar",
         "x": [
          "2023-01-01",
          "2023-01-02",
          "2023-01-03",
          "2023-01-04",
          "2023-01-05",
          "2023-01-06",
          "2023-01-07",
          "2023-01-08",
          "2023-01-09",
          "2023-01-10",
          "2023-01-11",
          "2023-01-12",
          "2023-01-13",
          "2023-01-14",
          "2023-01-15",
          "2023-01-16",
          "2023-01-17",
          "2023-01-18",
          "2023-01-19",
          "2023-01-20",
          "2023-01-21",
          "2023-01-22",
          "2023-01-23",
          "2023-01-24",
          "2023-01-25",
          "2023-01-26",
          "2023-01-27",
          "2023-01-28",
          "2023-01-29",
          "2023-01-30",
          "2023-01-31"
         ],
         "xaxis": "x",
         "y": [
          -0.0065039996,
          -0.0112133605,
          -0.0139869693,
          -0.02493732,
          -0.0187002847,
          -0.0214551638,
          -0.0206165224,
          -0.0149610308,
          -0.0414718936,
          -0.0254013089,
          -0.0338311578,
          -0.0311224807,
          -0.0339995805,
          -0.0246362624,
          -0.0157218867,
          -0.022954661,
          -0.0294937451,
          -0.0336619642,
          -0.0381929143,
          -0.0313440084,
          -0.0236513082,
          -0.0157843654,
          -0.0285414118,
          -0.0306322081,
          -0.0340975771,
          -0.0159413415,
          -0.0302562225,
          -0.0304759878,
          -0.0225455715,
          -0.0290155973,
          -0.0302489468
         ],
         "yaxis": "y"
        },
        {
         "alignmentgroup": "True",
         "hovertemplate": "line_item_product_code=AmazonTimestream<br>line_item_usage_start_date=%{x}<br>line_item_unblended_cost=%{y}<extra></extra>",
         "legendgroup": "AmazonTimestream",
         "marker": {
          "color": "#FFA15A",
          "pattern": {
           "shape": ""
          }
         },
         "name": "AmazonTimestream",
         "offsetgroup": "AmazonTimestream",
         "orientation": "v",
         "showlegend": true,
         "textposition": "auto",
         "type": "bar",
         "x": [
          "2023-01-01",
          "2023-01-02",
          "2023-01-03",
          "2023-01-04",
          "2023-01-05",
          "2023-01-06",
          "2023-01-07",
          "2023-01-08",
          "2023-01-09",
          "2023-01-10",
          "2023-01-11",
          "2023-01-12",
          "2023-01-13",
          "2023-01-14",
          "2023-01-15",
          "2023-01-16",
          "2023-01-17",
          "2023-01-18",
          "2023-01-19",
          "2023-01-20",
          "2023-01-21",
          "2023-01-22",
          "2023-01-23",
          "2023-01-24",
          "2023-01-25",
          "2023-01-26",
          "2023-01-27",
          "2023-01-28",
          "2023-01-29",
          "2023-01-30",
          "2023-01-31"
         ],
         "xaxis": "x",
         "y": [
          -2.363e-7,
          -3.252e-7,
          -2.3089999999999998e-7,
          -3.5879999999999996e-7,
          -0.0000378661,
          -3.6239999999999996e-7,
          -2.7219999999999996e-7,
          -3.875e-7,
          -2.69e-7,
          -3.5819999999999996e-7,
          -0.000034635300000000004,
          -0.0000380184,
          -2.6949999999999997e-7,
          -3.541e-7,
          -2.9259999999999996e-7,
          -0.000138727,
          -3.2629999999999995e-7,
          -0.0000256414,
          -0.000138751,
          -2.3159999999999998e-7,
          -2.64e-7,
          -0.0000381107,
          -2.2899999999999997e-7,
          -3.5669999999999996e-7,
          -3.353e-7,
          -2.0169999999999999e-7,
          -2.9599999999999995e-7,
          -3.3489999999999996e-7,
          -2.914e-7,
          -2.056e-7,
          -4.2429999999999995e-7
         ],
         "yaxis": "y"
        },
        {
         "alignmentgroup": "True",
         "hovertemplate": "line_item_product_code=AmazonVPC<br>line_item_usage_start_date=%{x}<br>line_item_unblended_cost=%{y}<extra></extra>",
         "legendgroup": "AmazonVPC",
         "marker": {
          "color": "#19d3f3",
          "pattern": {
           "shape": ""
          }
         },
         "name": "AmazonVPC",
         "offsetgroup": "AmazonVPC",
         "orientation": "v",
         "showlegend": true,
         "textposition": "auto",
         "type": "bar",
         "x": [
          "2023-01-01",
          "2023-01-02",
          "2023-01-03",
          "2023-01-04",
          "2023-01-05",
          "2023-01-06",
          "2023-01-07",
          "2023-01-08",
          "2023-01-09",
          "2023-01-10",
          "2023-01-11",
          "2023-01-12",
          "2023-01-13",
          "2023-01-14",
          "2023-01-15",
          "2023-01-16",
          "2023-01-17",
          "2023-01-18",
          "2023-01-19",
          "2023-01-20",
          "2023-01-21",
          "2023-01-22",
          "2023-01-23",
          "2023-01-24",
          "2023-01-25",
          "2023-01-26",
          "2023-01-27",
          "2023-01-28",
          "2023-01-29",
          "2023-01-30",
          "2023-01-31"
         ],
         "xaxis": "x",
         "y": [
          -4.1635585842,
          -4.3013748858,
          -5.9652113060000005,
          -4.8065120236,
          -7.1083956924,
          -6.1781112348,
          -5.6627689878,
          -5.1593966226,
          -4.6183624388,
          -6.1102971692,
          -5.9629135407,
          -6.1528411017,
          -5.8416111473,
          -5.4170125284,
          -5.2584145075999995,
          -5.3075578255,
          -4.7397198012,
          -5.4442195336,
          -4.5506451499,
          -6.5736270133,
          -4.7497107657,
          -3.2611537461,
          -4.102388364,
          -6.0129232816,
          -4.7551157846,
          -4.6146279729,
          -6.4458792759,
          -4.5401258464,
          -5.33740999,
          -5.563933113,
          -5.9095654068000005
         ],
         "yaxis": "y"
        },
        {
         "alignmentgroup": "True",
         "hovertemplate": "line_item_product_code=ComputeSavingsPlans<br>line_item_usage_start_date=%{x}<br>line_item_unblended_cost=%{y}<extra></extra>",
         "legendgroup": "ComputeSavingsPlans",
         "marker": {
          "color": "#FF6692",
          "pattern": {
           "shape": ""
          }
         },
         "name": "ComputeSavingsPlans",
         "offsetgroup": "ComputeSavingsPlans",
         "orientation": "v",
         "showlegend": true,
         "textposition": "auto",
         "type": "bar",
         "x": [
          "2023-01-01",
          "2023-01-02",
          "2023-01-03",
          "2023-01-04",
          "2023-01-05",
          "2023-01-06",
          "2023-01-07",
          "2023-01-08",
          "2023-01-09",
          "2023-01-10",
          "2023-01-11",
          "2023-01-12",
          "2023-01-13",
          "2023-01-14",
          "2023-01-15",
          "2023-01-16",
          "2023-01-17",
          "2023-01-18",
          "2023-01-19",
          "2023-01-20",
          "2023-01-21",
          "2023-01-22",
          "2023-01-23",
          "2023-01-24",
          "2023-01-25",
          "2023-01-26",
          "2023-01-27",
          "2023-01-28",
          "2023-01-29",
          "2023-01-30",
          "2023-01-31"
         ],
         "xaxis": "x",
         "y": [
          -116.10000000000001,
          -138.375,
          -98.55,
          -99.22500000000001,
          -110.025,
          -143.775,
          -83.025,
          -136.0125,
          -102.9375,
          -112.05,
          -117.7875,
          -123.8625,
          -86.7375,
          -125.2125,
          -121.5,
          -124.2,
          -106.3125,
          -111.375,
          -117.78750000000001,
          -133.9875,
          -95.5125,
          -105.97500000000001,
          -106.65,
          -96.525,
          -89.4375,
          -123.8625,
          -128.5875,
          -115.7625,
          -116.775,
          -93.825,
          -129.2625
         ],
         "yaxis": "y"
        },
        {
         "alignmentgroup": "True",
         "hovertemplate": "line_item_product_code=ElasticMapReduce<br>line_item_usage_start_date=%{x}<br>line_item_unblended_cost=%{y}<extra></extra>",
         "legendgroup": "ElasticMapReduce",
         "marker": {
          "color": "#B6E880",
          "pattern": {
           "shape": ""
          }
         },
         "name": "ElasticMapReduce",
         "offsetgroup": "ElasticMapReduce",
         "orientation": "v",
         "showlegend": true,
         "textposition": "auto",
         "type": "bar",
         "x": [
          "2023-01-01",
          "2023-01-02",
          "2023-01-03",
          "2023-01-04",
          "2023-01-05",
          "2023-01-06",
          "2023-01-07",
          "2023-01-08",
          "2023-01-09",
          "2023-01-10",
          "2023-01-11",
          "2023-01-12",
          "2023-01-13",
          "2023-01-14",
          "2023-01-15",
          "2023-01-16",
          "2023-01-17",
          "2023-01-18",
          "2023-01-19",
          "2023-01-20",
          "2023-01-21",
          "2023-01-22",
          "2023-01-23",
          "2023-01-24",
          "2023-01-25",
          "2023-01-26",
          "2023-01-27",
          "2023-01-28",
          "2023-01-29",
          "2023-01-30",
          "2023-01-31"
         ],
         "xaxis": "x",
         "y": [
          -3.6068762997,
          -2.8259616808,
          -2.9433491759,
          -2.435401684,
          -3.1843851276,
          -2.8962216126,
          -2.4856704457,
          -2.0567584005,
          -1.9217713616,
          -3.3363305253,
          -2.870571246,
          -3.4048913958,
          -2.2804015657,
          -2.7027579211,
          -2.2206321038,
          -1.9972354189,
          -4.0472907394,
          -3.214988273,
          -2.1827256412000002,
          -2.5810059256,
          -1.7630797755,
          -1.987500424,
          -1.9814355839,
          -1.9160275628,
          -2.9717015761,
          -2.1894385174,
          -2.434144281,
          -1.858150221,
          -1.2052951148,
          -1.8931717659,
          -2.7103923832
         ],
         "yaxis": "y"
        },
        {
         "alignmentgroup": "True",
         "hovertemplate": "line_item_product_code=awskms<br>line_item_usage_start_date=%{x}<br>line_item_unblended_cost=%{y}<extra></extra>",
         "legendgroup": "awskms",
         "marker": {
          "color": "#FF97FF",
          "pattern": {
           "shape": ""
          }
         },
         "name": "awskms",
         "offsetgroup": "awskms",
         "orientation": "v",
         "showlegend": true,
         "textposition": "auto",
         "type": "bar",
         "x": [
          "2023-01-01",
          "2023-01-02",
          "2023-01-03",
          "2023-01-04",
          "2023-01-05",
          "2023-01-06",
          "2023-01-07",
          "2023-01-08",
          "2023-01-09",
          "2023-01-10",
          "2023-01-11",
          "2023-01-12",
          "2023-01-13",
          "2023-01-14",
          "2023-01-15",
          "2023-01-16",
          "2023-01-17",
          "2023-01-18",
          "2023-01-19",
          "2023-01-20",
          "2023-01-21",
          "2023-01-22",
          "2023-01-23",
          "2023-01-24",
          "2023-01-25",
          "2023-01-26",
          "2023-01-27",
          "2023-01-28",
          "2023-01-29",
          "2023-01-30",
          "2023-01-31"
         ],
         "xaxis": "x",
         "y": [
          -0.2761923856,
          -0.3963727942,
          -0.693444902,
          -0.461030096,
          -0.3914028294,
          -0.4137342994,
          -0.393263415,
          -0.307655672,
          -0.3998594528,
          -0.3959259526,
          -0.4742579634,
          -0.4294225766,
          -0.5195153698,
          -0.385845666,
          -0.316460487,
          -0.41932771199999996,
          -0.594337469,
          -0.5336624868,
          -0.43239301,
          -0.5531338205999999,
          -0.36289067199999997,
          -0.4173544824,
          -0.4508370696,
          -0.9536028768,
          -0.661233226,
          -0.6950873868,
          -0.44015958,
          -0.4105884808,
          -0.4211675216,
          -0.5298829078,
          -0.4707549232
         ],
         "yaxis": "y"
        },
        {
         "alignmentgroup": "True",
         "hovertemplate": "line_item_product_code=datapipeline<br>line_item_usage_start_date=%{x}<br>line_item_unblended_cost=%{y}<extra></extra>",
         "legendgroup": "datapipeline",
         "marker": {
          "color": "#FECB52",
          "pattern": {
           "shape": ""
          }
         },
         "name": "datapipeline",
         "offsetgroup": "datapipeline",
         "orientation": "v",
         "showlegend": true,
         "textposition": "auto",
         "type": "bar",
         "x": [
          "2023-01-01",
          "2023-01-02",
          "2023-01-03",
          "2023-01-04",
          "2023-01-05",
          "2023-01-06",
          "2023-01-07",
          "2023-01-08",
          "2023-01-09",
          "2023-01-10",
          "2023-01-11",
          "2023-01-12",
          "2023-01-13",
          "2023-01-14",
          "2023-01-15",
          "2023-01-16",
          "2023-01-17",
          "2023-01-18",
          "2023-01-19",
          "2023-01-20",
          "2023-01-21",
          "2023-01-22",
          "2023-01-23",
          "2023-01-24",
          "2023-01-25",
          "2023-01-26",
          "2023-01-27",
          "2023-01-28",
          "2023-01-29",
          "2023-01-30",
          "2023-01-31"
         ],
         "xaxis": "x",
         "y": [
          -0.0014516128,
          -0.0016330644,
          -0.0016330644,
          -0.0014516128,
          -0.0021774192,
          -0.0016330644,
          -0.0016330644,
          -0.0021774192,
          -0.0010887096,
          -0.0014516128,
          -0.001814516,
          -0.0012701612,
          -0.0025403224,
          -0.000907258,
          -0.001814516,
          -0.0016330644,
          -0.000907258,
          -0.001814516,
          -0.001814516,
          -0.0021774192,
          -0.0012701612,
          -0.0021774192,
          -0.0010887096,
          -0.0029032256,
          -0.0016330644,
          -0.0019959675999999997,
          -0.0012701612,
          -0.0023588708,
          -0.0014516128,
          -0.0025403224,
          -0.000907258
         ],
         "yaxis": "y"
        },
        {
         "alignmentgroup": "True",
         "hovertemplate": "line_item_product_code=AmazonWorkSpaces<br>line_item_usage_start_date=%{x}<br>line_item_unblended_cost=%{y}<extra></extra>",
         "legendgroup": "AmazonWorkSpaces",
         "marker": {
          "color": "#636efa",
          "pattern": {
           "shape": ""
          }
         },
         "name": "AmazonWorkSpaces",
         "offsetgroup": "AmazonWorkSpaces",
         "orientation": "v",
         "showlegend": true,
         "textposition": "auto",
         "type": "bar",
         "x": [
          "2023-01-02"
         ],
         "xaxis": "x",
         "y": [
          -0.13365
         ],
         "yaxis": "y"
        },
        {
         "alignmentgroup": "True",
         "hovertemplate": "line_item_product_code=AmazonLex<br>line_item_usage_start_date=%{x}<br>line_item_unblended_cost=%{y}<extra></extra>",
         "legendgroup": "AmazonLex",
         "marker": {
          "color": "#EF553B",
          "pattern": {
           "shape": ""
          }
         },
         "name": "AmazonLex",
         "offsetgroup": "AmazonLex",
         "orientation": "v",
         "showlegend": true,
         "textposition": "auto",
         "type": "bar",
         "x": [
          "2023-01-03",
          "2023-01-04",
          "2023-01-05",
          "2023-01-06",
          "2023-01-07",
          "2023-01-08",
          "2023-01-09",
          "2023-01-10",
          "2023-01-11",
          "2023-01-12",
          "2023-01-13",
          "2023-01-14",
          "2023-01-15",
          "2023-01-16",
          "2023-01-17",
          "2023-01-18",
          "2023-01-19",
          "2023-01-20",
          "2023-01-21",
          "2023-01-22",
          "2023-01-23",
          "2023-01-24",
          "2023-01-25",
          "2023-01-26",
          "2023-01-27",
          "2023-01-28",
          "2023-01-29",
          "2023-01-30",
          "2023-01-31"
         ],
         "xaxis": "x",
         "y": [
          -0.0820125,
          -0.08211375,
          -0.25606125,
          -0.21951,
          -0.1982475,
          -0.06550875,
          -0.13678875000000001,
          -0.1828575,
          -0.1545075,
          -0.27135,
          -0.19470375,
          -0.13739625,
          -0.18275625,
          -0.27651375,
          -0.243,
          -0.2217375,
          -0.22021875000000002,
          -0.1374975,
          -0.14468625,
          -0.17688375,
          -0.14974875,
          -0.22892625,
          -0.26922375,
          -0.10155375,
          -0.1739475,
          -0.2025,
          -0.1994625,
          -0.22285125,
          -0.25302375
         ],
         "yaxis": "y"
        },
        {
         "alignmentgroup": "True",
         "hovertemplate": "line_item_product_code=CodeBuild<br>line_item_usage_start_date=%{x}<br>line_item_unblended_cost=%{y}<extra></extra>",
         "legendgroup": "CodeBuild",
         "marker": {
          "color": "#00cc96",
          "pattern": {
           "shape": ""
          }
         },
         "name": "CodeBuild",
         "offsetgroup": "CodeBuild",
         "orientation": "v",
         "showlegend": true,
         "textposition": "auto",
         "type": "bar",
         "x": [
          "2023-01-03",
          "2023-01-04",
          "2023-01-05",
          "2023-01-06",
          "2023-01-09",
          "2023-01-10",
          "2023-01-11",
          "2023-01-12",
          "2023-01-13",
          "2023-01-16",
          "2023-01-17",
          "2023-01-18",
          "2023-01-19",
          "2023-01-20",
          "2023-01-23",
          "2023-01-24",
          "2023-01-25",
          "2023-01-27",
          "2023-01-29",
          "2023-01-30",
          "2023-01-31"
         ],
         "xaxis": "x",
         "y": [
          -0.00405,
          -0.045899999999999996,
          -0.058725,
          -0.02835,
          -0.020925,
          -0.012150000000000001,
          -0.007425,
          -0.03915,
          -0.0054,
          -0.037125,
          -0.01215,
          -0.0054,
          -0.0324,
          -0.0027,
          -0.0189,
          -0.0135,
          -0.006750000000000001,
          -0.004725,
          -0.019575,
          -0.002025,
          -0.015525
         ],
         "yaxis": "y"
        },
        {
         "alignmentgroup": "True",
         "hovertemplate": "line_item_product_code=AWSDataSync<br>line_item_usage_start_date=%{x}<br>line_item_unblended_cost=%{y}<extra></extra>",
         "legendgroup": "AWSDataSync",
         "marker": {
          "color": "#ab63fa",
          "pattern": {
           "shape": ""
          }
         },
         "name": "AWSDataSync",
         "offsetgroup": "AWSDataSync",
         "orientation": "v",
         "showlegend": true,
         "textposition": "auto",
         "type": "bar",
         "x": [
          "2023-01-04",
          "2023-01-13",
          "2023-01-25",
          "2023-01-30",
          "2023-01-31"
         ],
         "xaxis": "x",
         "y": [
          -0.000002518,
          -0.0183413177,
          -7.322e-7,
          -8.15e-7,
          -5.814e-7
         ],
         "yaxis": "y"
        },
        {
         "alignmentgroup": "True",
         "hovertemplate": "line_item_product_code=AmazonStates<br>line_item_usage_start_date=%{x}<br>line_item_unblended_cost=%{y}<extra></extra>",
         "legendgroup": "AmazonStates",
         "marker": {
          "color": "#FFA15A",
          "pattern": {
           "shape": ""
          }
         },
         "name": "AmazonStates",
         "offsetgroup": "AmazonStates",
         "orientation": "v",
         "showlegend": true,
         "textposition": "auto",
         "type": "bar",
         "x": [
          "2023-01-04",
          "2023-01-05",
          "2023-01-11",
          "2023-01-16",
          "2023-01-17",
          "2023-01-18",
          "2023-01-22",
          "2023-01-24",
          "2023-01-25"
         ],
         "xaxis": "x",
         "y": [
          -6.9e-9,
          -2e-10,
          -3.8e-9,
          -1.282e-7,
          -9.1e-9,
          -5.53e-8,
          -2.79e-8,
          -2e-10,
          -1.1e-9
         ],
         "yaxis": "y"
        },
        {
         "alignmentgroup": "True",
         "hovertemplate": "line_item_product_code=AWSXRay<br>line_item_usage_start_date=%{x}<br>line_item_unblended_cost=%{y}<extra></extra>",
         "legendgroup": "AWSXRay",
         "marker": {
          "color": "#19d3f3",
          "pattern": {
           "shape": ""
          }
         },
         "name": "AWSXRay",
         "offsetgroup": "AWSXRay",
         "orientation": "v",
         "showlegend": true,
         "textposition": "auto",
         "type": "bar",
         "x": [
          "2023-01-06",
          "2023-01-07",
          "2023-01-08",
          "2023-01-09",
          "2023-01-10",
          "2023-01-11",
          "2023-01-12",
          "2023-01-13",
          "2023-01-14",
          "2023-01-15",
          "2023-01-16",
          "2023-01-17",
          "2023-01-18",
          "2023-01-19",
          "2023-01-20",
          "2023-01-21",
          "2023-01-22",
          "2023-01-23",
          "2023-01-24",
          "2023-01-25",
          "2023-01-26",
          "2023-01-27",
          "2023-01-28",
          "2023-01-29",
          "2023-01-30",
          "2023-01-31"
         ],
         "xaxis": "x",
         "y": [
          -0.00371655,
          -0.003189375,
          -0.004687875,
          -0.0050058,
          -0.0047061,
          -0.005472225,
          -0.00406485,
          -0.003371625,
          -0.00219915,
          -0.0041499,
          -0.00464805,
          -0.003556575,
          -0.004330125,
          -0.002869425,
          -0.00477495,
          -0.00424035,
          -0.00324135,
          -0.00420795,
          -0.002939625,
          -0.00456435,
          -0.004556925,
          -0.00390825,
          -0.00308475,
          -0.0047776500000000005,
          -0.0034782750000000003,
          -0.004455675
         ],
         "yaxis": "y"
        },
        {
         "alignmentgroup": "True",
         "hovertemplate": "line_item_product_code=AmazonInspector<br>line_item_usage_start_date=%{x}<br>line_item_unblended_cost=%{y}<extra></extra>",
         "legendgroup": "AmazonInspector",
         "marker": {
          "color": "#FF6692",
          "pattern": {
           "shape": ""
          }
         },
         "name": "AmazonInspector",
         "offsetgroup": "AmazonInspector",
         "orientation": "v",
         "showlegend": true,
         "textposition": "auto",
         "type": "bar",
         "x": [
          "2023-01-15",
          "2023-01-29"
         ],
         "xaxis": "x",
         "y": [
          -0.0405,
          -0.02025
         ],
         "yaxis": "y"
        }
       ],
       "layout": {
        "barmode": "relative",
        "legend": {
         "title": {
          "text": "line_item_product_code"
         },
         "tracegroupgap": 0
        },
        "template": {
         "data": {
          "bar": [
           {
            "error_x": {
             "color": "#2a3f5f"
            },
            "error_y": {
             "color": "#2a3f5f"
            },
            "marker": {
             "line": {
              "color": "#E5ECF6",
              "width": 0.5
             },
             "pattern": {
              "fillmode": "overlay",
              "size": 10,
              "solidity": 0.2
             }
            },
            "type": "bar"
           }
          ],
          "barpolar": [
           {
            "marker": {
             "line": {
              "color": "#E5ECF6",
              "width": 0.5
             },
             "pattern": {
              "fillmode": "overlay",
              "size": 10,
              "solidity": 0.2
             }
            },
            "type": "barpolar"
           }
          ],
          "carpet": [
           {
            "aaxis": {
             "endlinecolor": "#2a3f5f",
             "gridcolor": "white",
             "linecolor": "white",
             "minorgridcolor": "white",
             "startlinecolor": "#2a3f5f"
            },
            "baxis": {
             "endlinecolor": "#2a3f5f",
             "gridcolor": "white",
             "linecolor": "white",
             "minorgridcolor": "white",
             "startlinecolor": "#2a3f5f"
            },
            "type": "carpet"
           }
          ],
          "choropleth": [
           {
            "colorbar": {
             "outlinewidth": 0,
             "ticks": ""
            },
            "type": "choropleth"
           }
          ],
          "contour": [
           {
            "colorbar": {
             "outlinewidth": 0,
             "ticks": ""
            },
            "colorscale": [
             [
              0,
              "#0d0887"
             ],
             [
              0.1111111111111111,
              "#46039f"
             ],
             [
              0.2222222222222222,
              "#7201a8"
             ],
             [
              0.3333333333333333,
              "#9c179e"
             ],
             [
              0.4444444444444444,
              "#bd3786"
             ],
             [
              0.5555555555555556,
              "#d8576b"
             ],
             [
              0.6666666666666666,
              "#ed7953"
             ],
             [
              0.7777777777777778,
              "#fb9f3a"
             ],
             [
              0.8888888888888888,
              "#fdca26"
             ],
             [
              1,
              "#f0f921"
             ]
            ],
            "type": "contour"
           }
          ],
          "contourcarpet": [
           {
            "colorbar": {
             "outlinewidth": 0,
             "ticks": ""
            },
            "type": "contourcarpet"
           }
          ],
          "heatmap": [
           {
            "colorbar": {
             "outlinewidth": 0,
             "ticks": ""
            },
            "colorscale": [
             [
              0,
              "#0d0887"
             ],
             [
              0.1111111111111111,
              "#46039f"
             ],
             [
              0.2222222222222222,
              "#7201a8"
             ],
             [
              0.3333333333333333,
              "#9c179e"
             ],
             [
              0.4444444444444444,
              "#bd3786"
             ],
             [
              0.5555555555555556,
              "#d8576b"
             ],
             [
              0.6666666666666666,
              "#ed7953"
             ],
             [
              0.7777777777777778,
              "#fb9f3a"
             ],
             [
              0.8888888888888888,
              "#fdca26"
             ],
             [
              1,
              "#f0f921"
             ]
            ],
            "type": "heatmap"
           }
          ],
          "heatmapgl": [
           {
            "colorbar": {
             "outlinewidth": 0,
             "ticks": ""
            },
            "colorscale": [
             [
              0,
              "#0d0887"
             ],
             [
              0.1111111111111111,
              "#46039f"
             ],
             [
              0.2222222222222222,
              "#7201a8"
             ],
             [
              0.3333333333333333,
              "#9c179e"
             ],
             [
              0.4444444444444444,
              "#bd3786"
             ],
             [
              0.5555555555555556,
              "#d8576b"
             ],
             [
              0.6666666666666666,
              "#ed7953"
             ],
             [
              0.7777777777777778,
              "#fb9f3a"
             ],
             [
              0.8888888888888888,
              "#fdca26"
             ],
             [
              1,
              "#f0f921"
             ]
            ],
            "type": "heatmapgl"
           }
          ],
          "histogram": [
           {
            "marker": {
             "pattern": {
              "fillmode": "overlay",
              "size": 10,
              "solidity": 0.2
             }
            },
            "type": "histogram"
           }
          ],
          "histogram2d": [
           {
            "colorbar": {
             "outlinewidth": 0,
             "ticks": ""
            },
            "colorscale": [
             [
              0,
              "#0d0887"
             ],
             [
              0.1111111111111111,
              "#46039f"
             ],
             [
              0.2222222222222222,
              "#7201a8"
             ],
             [
              0.3333333333333333,
              "#9c179e"
             ],
             [
              0.4444444444444444,
              "#bd3786"
             ],
             [
              0.5555555555555556,
              "#d8576b"
             ],
             [
              0.6666666666666666,
              "#ed7953"
             ],
             [
              0.7777777777777778,
              "#fb9f3a"
             ],
             [
              0.8888888888888888,
              "#fdca26"
             ],
             [
              1,
              "#f0f921"
             ]
            ],
            "type": "histogram2d"
           }
          ],
          "histogram2dcontour": [
           {
            "colorbar": {
             "outlinewidth": 0,
             "ticks": ""
            },
            "colorscale": [
             [
              0,
              "#0d0887"
             ],
             [
              0.1111111111111111,
              "#46039f"
             ],
             [
              0.2222222222222222,
              "#7201a8"
             ],
             [
              0.3333333333333333,
              "#9c179e"
             ],
             [
              0.4444444444444444,
              "#bd3786"
             ],
             [
              0.5555555555555556,
              "#d8576b"
             ],
             [
              0.6666666666666666,
              "#ed7953"
             ],
             [
              0.7777777777777778,
              "#fb9f3a"
             ],
             [
              0.8888888888888888,
              "#fdca26"
             ],
             [
              1,
              "#f0f921"
             ]
            ],
            "type": "histogram2dcontour"
           }
          ],
          "mesh3d": [
           {
            "colorbar": {
             "outlinewidth": 0,
             "ticks": ""
            },
            "type": "mesh3d"
           }
          ],
          "parcoords": [
           {
            "line": {
             "colorbar": {
              "outlinewidth": 0,
              "ticks": ""
             }
            },
            "type": "parcoords"
           }
          ],
          "pie": [
           {
            "automargin": true,
            "type": "pie"
           }
          ],
          "scatter": [
           {
            "fillpattern": {
             "fillmode": "overlay",
             "size": 10,
             "solidity": 0.2
            },
            "type": "scatter"
           }
          ],
          "scatter3d": [
           {
            "line": {
             "colorbar": {
              "outlinewidth": 0,
              "ticks": ""
             }
            },
            "marker": {
             "colorbar": {
              "outlinewidth": 0,
              "ticks": ""
             }
            },
            "type": "scatter3d"
           }
          ],
          "scattercarpet": [
           {
            "marker": {
             "colorbar": {
              "outlinewidth": 0,
              "ticks": ""
             }
            },
            "type": "scattercarpet"
           }
          ],
          "scattergeo": [
           {
            "marker": {
             "colorbar": {
              "outlinewidth": 0,
              "ticks": ""
             }
            },
            "type": "scattergeo"
           }
          ],
          "scattergl": [
           {
            "marker": {
             "colorbar": {
              "outlinewidth": 0,
              "ticks": ""
             }
            },
            "type": "scattergl"
           }
          ],
          "scattermapbox": [
           {
            "marker": {
             "colorbar": {
              "outlinewidth": 0,
              "ticks": ""
             }
            },
            "type": "scattermapbox"
           }
          ],
          "scatterpolar": [
           {
            "marker": {
             "colorbar": {
              "outlinewidth": 0,
              "ticks": ""
             }
            },
            "type": "scatterpolar"
           }
          ],
          "scatterpolargl": [
           {
            "marker": {
             "colorbar": {
              "outlinewidth": 0,
              "ticks": ""
             }
            },
            "type": "scatterpolargl"
           }
          ],
          "scatterternary": [
           {
            "marker": {
             "colorbar": {
              "outlinewidth": 0,
              "ticks": ""
             }
            },
            "type": "scatterternary"
           }
          ],
          "surface": [
           {
            "colorbar": {
             "outlinewidth": 0,
             "ticks": ""
            },
            "colorscale": [
             [
              0,
              "#0d0887"
             ],
             [
              0.1111111111111111,
              "#46039f"
             ],
             [
              0.2222222222222222,
              "#7201a8"
             ],
             [
              0.3333333333333333,
              "#9c179e"
             ],
             [
              0.4444444444444444,
              "#bd3786"
             ],
             [
              0.5555555555555556,
              "#d8576b"
             ],
             [
              0.6666666666666666,
              "#ed7953"
             ],
             [
              0.7777777777777778,
              "#fb9f3a"
             ],
             [
              0.8888888888888888,
              "#fdca26"
             ],
             [
              1,
              "#f0f921"
             ]
            ],
            "type": "surface"
           }
          ],
          "table": [
           {
            "cells": {
             "fill": {
              "color": "#EBF0F8"
             },
             "line": {
              "color": "white"
             }
            },
            "header": {
             "fill": {
              "color": "#C8D4E3"
             },
             "line": {
              "color": "white"
             }
            },
            "type": "table"
           }
          ]
         },
         "layout": {
          "annotationdefaults": {
           "arrowcolor": "#2a3f5f",
           "arrowhead": 0,
           "arrowwidth": 1
          },
          "autotypenumbers": "strict",
          "coloraxis": {
           "colorbar": {
            "outlinewidth": 0,
            "ticks": ""
           }
          },
          "colorscale": {
           "diverging": [
            [
             0,
             "#8e0152"
            ],
            [
             0.1,
             "#c51b7d"
            ],
            [
             0.2,
             "#de77ae"
            ],
            [
             0.3,
             "#f1b6da"
            ],
            [
             0.4,
             "#fde0ef"
            ],
            [
             0.5,
             "#f7f7f7"
            ],
            [
             0.6,
             "#e6f5d0"
            ],
            [
             0.7,
             "#b8e186"
            ],
            [
             0.8,
             "#7fbc41"
            ],
            [
             0.9,
             "#4d9221"
            ],
            [
             1,
             "#276419"
            ]
           ],
           "sequential": [
            [
             0,
             "#0d0887"
            ],
            [
             0.1111111111111111,
             "#46039f"
            ],
            [
             0.2222222222222222,
             "#7201a8"
            ],
            [
             0.3333333333333333,
             "#9c179e"
            ],
            [
             0.4444444444444444,
             "#bd3786"
            ],
            [
             0.5555555555555556,
             "#d8576b"
            ],
            [
             0.6666666666666666,
             "#ed7953"
            ],
            [
             0.7777777777777778,
             "#fb9f3a"
            ],
            [
             0.8888888888888888,
             "#fdca26"
            ],
            [
             1,
             "#f0f921"
            ]
           ],
           "sequentialminus": [
            [
             0,
             "#0d0887"
            ],
            [
             0.1111111111111111,
             "#46039f"
            ],
            [
             0.2222222222222222,
             "#7201a8"
            ],
            [
             0.3333333333333333,
             "#9c179e"
            ],
            [
             0.4444444444444444,
             "#bd3786"
            ],
            [
             0.5555555555555556,
             "#d8576b"
            ],
            [
             0.6666666666666666,
             "#ed7953"
            ],
            [
             0.7777777777777778,
             "#fb9f3a"
            ],
            [
             0.8888888888888888,
             "#fdca26"
            ],
            [
             1,
             "#f0f921"
            ]
           ]
          },
          "colorway": [
           "#636efa",
           "#EF553B",
           "#00cc96",
           "#ab63fa",
           "#FFA15A",
           "#19d3f3",
           "#FF6692",
           "#B6E880",
           "#FF97FF",
           "#FECB52"
          ],
          "font": {
           "color": "#2a3f5f"
          },
          "geo": {
           "bgcolor": "white",
           "lakecolor": "white",
           "landcolor": "#E5ECF6",
           "showlakes": true,
           "showland": true,
           "subunitcolor": "white"
          },
          "hoverlabel": {
           "align": "left"
          },
          "hovermode": "closest",
          "mapbox": {
           "style": "light"
          },
          "paper_bgcolor": "white",
          "plot_bgcolor": "#E5ECF6",
          "polar": {
           "angularaxis": {
            "gridcolor": "white",
            "linecolor": "white",
            "ticks": ""
           },
           "bgcolor": "#E5ECF6",
           "radialaxis": {
            "gridcolor": "white",
            "linecolor": "white",
            "ticks": ""
           }
          },
          "scene": {
           "xaxis": {
            "backgroundcolor": "#E5ECF6",
            "gridcolor": "white",
            "gridwidth": 2,
            "linecolor": "white",
            "showbackground": true,
            "ticks": "",
            "zerolinecolor": "white"
           },
           "yaxis": {
            "backgroundcolor": "#E5ECF6",
            "gridcolor": "white",
            "gridwidth": 2,
            "linecolor": "white",
            "showbackground": true,
            "ticks": "",
            "zerolinecolor": "white"
           },
           "zaxis": {
            "backgroundcolor": "#E5ECF6",
            "gridcolor": "white",
            "gridwidth": 2,
            "linecolor": "white",
            "showbackground": true,
            "ticks": "",
            "zerolinecolor": "white"
           }
          },
          "shapedefaults": {
           "line": {
            "color": "#2a3f5f"
           }
          },
          "ternary": {
           "aaxis": {
            "gridcolor": "white",
            "linecolor": "white",
            "ticks": ""
           },
           "baxis": {
            "gridcolor": "white",
            "linecolor": "white",
            "ticks": ""
           },
           "bgcolor": "#E5ECF6",
           "caxis": {
            "gridcolor": "white",
            "linecolor": "white",
            "ticks": ""
           }
          },
          "title": {
           "x": 0.05
          },
          "xaxis": {
           "automargin": true,
           "gridcolor": "white",
           "linecolor": "white",
           "ticks": "",
           "title": {
            "standoff": 15
           },
           "zerolinecolor": "white",
           "zerolinewidth": 2
          },
          "yaxis": {
           "automargin": true,
           "gridcolor": "white",
           "linecolor": "white",
           "ticks": "",
           "title": {
            "standoff": 15
           },
           "zerolinecolor": "white",
           "zerolinewidth": 2
          }
         }
        },
        "title": {
         "text": "Daily Unblended Cost per Product"
        },
        "xaxis": {
         "anchor": "y",
         "domain": [
          0,
          1
         ],
         "title": {
          "text": "line_item_usage_start_date"
         }
        },
        "yaxis": {
         "anchor": "x",
         "domain": [
          0,
          1
         ],
         "title": {
          "text": "line_item_unblended_cost"
         }
        }
       }
      }
     },
     "metadata": {},
     "output_type": "display_data"
    }
   ],
   "source": [
    "\n",
    "# Daily Unblended Cost per Product\n",
    "df[\"line_item_usage_start_date\"] = pd.to_datetime(df[\"line_item_usage_start_date\"])\n",
    "daily_cost_per_product = df.groupby([df[\"line_item_usage_start_date\"].dt.date, \"line_item_product_code\"])[\"line_item_unblended_cost\"].sum().reset_index()\n",
    "fig = px.bar(daily_cost_per_product, x=\"line_item_usage_start_date\", y=\"line_item_unblended_cost\", color=\"line_item_product_code\", title=\"Daily Unblended Cost per Product\")\n",
    "description = \"This report shows the daily unblended cost for each AWS product.\"\n",
    "fig.show()"
   ]
  },
  {
   "cell_type": "code",
   "execution_count": null,
   "metadata": {},
   "outputs": [],
   "source": []
  }
 ],
 "metadata": {
  "kernelspec": {
   "display_name": "base",
   "language": "python",
   "name": "python3"
  },
  "language_info": {
   "codemirror_mode": {
    "name": "ipython",
    "version": 3
   },
   "file_extension": ".py",
   "mimetype": "text/x-python",
   "name": "python",
   "nbconvert_exporter": "python",
   "pygments_lexer": "ipython3",
   "version": "3.10.9"
  },
  "orig_nbformat": 4
 },
 "nbformat": 4,
 "nbformat_minor": 2
}
